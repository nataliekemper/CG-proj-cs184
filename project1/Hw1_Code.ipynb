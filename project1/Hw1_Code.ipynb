{
 "cells": [
  {
   "cell_type": "code",
   "execution_count": 1,
   "id": "3ab9c615",
   "metadata": {},
   "outputs": [],
   "source": [
    "# This file is in scripts/load.py\n",
    "import sys\n",
    "if sys.version_info[0] < 3:\n",
    "    raise Exception(\"Python 3 not detected.\")\n",
    "import numpy as np\n",
    "import matplotlib.pyplot as plt\n",
    "from sklearn import svm\n",
    "from sklearn.metrics import accuracy_score\n",
    "from scipy import io\n",
    "import random\n",
    "import matplotlib.pyplot as plt\n",
    "from save_csv import *"
   ]
  },
  {
   "cell_type": "code",
   "execution_count": 2,
   "id": "e2191b8b",
   "metadata": {},
   "outputs": [
    {
     "name": "stdout",
     "output_type": "stream",
     "text": [
      "\n",
      "loaded mnist data!\n",
      "test_data (10000, 1, 28, 28)\n",
      "training_data (60000, 1, 28, 28)\n",
      "training_labels (60000,)\n",
      "\n",
      "loaded spam data!\n",
      "test_data (1000, 32)\n",
      "training_data (4172, 32)\n",
      "training_labels (4172,)\n",
      "\n",
      "loaded cifar10 data!\n",
      "test_data (10000, 3072)\n",
      "training_data (50000, 3072)\n",
      "training_labels (50000,)\n"
     ]
    }
   ],
   "source": [
    "for data_name in [\"mnist\", \"spam\", \"cifar10\"]:\n",
    "    data = np.load(f\"/Users/nataliekemper/Downloads/Berkeley/SPRING2023/CS189/Homework/hw1/data/{data_name}-data.npz\")\n",
    "    print(\"\\nloaded %s data!\" % data_name)\n",
    "    fields = \"test_data\", \"training_data\", \"training_labels\"\n",
    "    for field in fields:\n",
    "        print(field, data[field].shape)"
   ]
  },
  {
   "cell_type": "markdown",
   "id": "5eef965b",
   "metadata": {},
   "source": [
    "### QUESTION 2:"
   ]
  },
  {
   "cell_type": "code",
   "execution_count": 3,
   "id": "b3041334",
   "metadata": {},
   "outputs": [],
   "source": [
    "def shuffle_data(array1, array2, num):\n",
    "    merged_list = list(zip(array1, array2))\n",
    "    \n",
    "    shuffled = random.sample(merged_list, len(merged_list))\n",
    "    \n",
    "    unfiltered_training, unfiltered_val = shuffled[num:], shuffled[:num]\n",
    "    \n",
    "    X_training_data, y_training_labels = zip(*unfiltered_training)\n",
    "    X_validation_data, y_validation_labels = zip(*unfiltered_val)\n",
    "    \n",
    "    return np.asarray(X_training_data), np.asarray(y_training_labels), np.asarray(X_validation_data), np.asarray(y_validation_labels)\n",
    "\n"
   ]
  },
  {
   "cell_type": "code",
   "execution_count": 4,
   "id": "6e9de970",
   "metadata": {},
   "outputs": [],
   "source": [
    "# Partitioning MNIST data\n",
    "mnist_data = np.load(f\"../data/mnist-data.npz\")\n",
    "\n",
    "trainingList = mnist_data['training_data']\n",
    "labelList = mnist_data['training_labels']\n",
    "\n",
    "trainingList.resize(60000, 784)\n",
    "\n",
    "X_mnistTraining_data, y_mnistTraining_labels, X_mnistValidation_data, y_mnistValidation_labels = shuffle_data(\n",
    "    trainingList, labelList, 10000)"
   ]
  },
  {
   "cell_type": "code",
   "execution_count": 5,
   "id": "3ca184b3",
   "metadata": {},
   "outputs": [],
   "source": [
    "# Partitioning SPAM data\n",
    "spam_data = np.load(f\"../data/spam-data.npz\")\n",
    "    \n",
    "trainingList = spam_data['training_data']\n",
    "labelList = spam_data['training_labels']\n",
    "\n",
    "# 834 is roughly 20% of the data\n",
    "num = 834\n",
    "X_spamTraining_data, y_spamTraining_labels, X_spamValidation_data, y_spamValidation_labels = shuffle_data(\n",
    "    trainingList, labelList, num)"
   ]
  },
  {
   "cell_type": "code",
   "execution_count": 6,
   "id": "ab6f1df4",
   "metadata": {},
   "outputs": [],
   "source": [
    "# Partitioning Cifar10 data\n",
    "cifar_data = np.load(f\"../data/cifar10-data.npz\")\n",
    "    \n",
    "trainingList = cifar_data['training_data']\n",
    "labelList = cifar_data['training_labels']\n",
    "\n",
    "num = 5000\n",
    "X_cifarTraining_data, y_cifarTraining_labels, X_cifarValidation_data, y_cifarValidation_labels = shuffle_data(\n",
    "    trainingList, labelList, num)"
   ]
  },
  {
   "cell_type": "markdown",
   "id": "3b40fc30",
   "metadata": {},
   "source": [
    "### QUESTION 3:"
   ]
  },
  {
   "cell_type": "code",
   "execution_count": 7,
   "id": "39d4b1b5",
   "metadata": {},
   "outputs": [],
   "source": [
    "sets = [100, 200, 500, 1000, 2000, 5000, 10000]\n",
    "train_acc = []\n",
    "val_acc = []"
   ]
  },
  {
   "cell_type": "code",
   "execution_count": 8,
   "id": "00412fbb",
   "metadata": {},
   "outputs": [],
   "source": [
    "for num in sets:\n",
    "    mnist_model = svm.SVC(kernel = \"linear\")\n",
    "    mnist_model.fit(X_mnistTraining_data[:num, :], y_mnistTraining_labels[:num])\n",
    "\n",
    "    x_pred = mnist_model.predict(X_mnistTraining_data[:num, :])\n",
    "    y_pred = mnist_model.predict(X_mnistValidation_data[:num, :])\n",
    "\n",
    "    v_acc, t_acc = accuracy_score(y_mnistValidation_labels[:num], y_pred), accuracy_score(y_mnistTraining_labels[:num], x_pred)\n",
    "    \n",
    "    train_acc.append(t_acc)\n",
    "    val_acc.append(v_acc)\n",
    "    "
   ]
  },
  {
   "cell_type": "code",
   "execution_count": 9,
   "id": "44b9cded",
   "metadata": {},
   "outputs": [
    {
     "data": {
      "image/png": "[encoded data removed]",
      "text/plain": [
       "<Figure size 432x288 with 1 Axes>"
      ]
     },
     "metadata": {
      "needs_background": "light"
     },
     "output_type": "display_data"
    }
   ],
   "source": [
    "plt.plot(sets, val_acc, label='Validation Data')\n",
    "plt.plot(sets, train_acc, label='Training Data')\n",
    "plt.title('MNIST Accuracy')\n",
    "plt.xlabel('Number of Training Examples')\n",
    "plt.ylabel('Accuracy')\n",
    "plt.legend()\n",
    "plt.show()"
   ]
  },
  {
   "cell_type": "code",
   "execution_count": 10,
   "id": "5a559dbf",
   "metadata": {},
   "outputs": [],
   "source": [
    "spamsets = [100, 200, 500, 1000, 2000, 4173]\n",
    "spamtrain_acc = []\n",
    "spamval_acc = []"
   ]
  },
  {
   "cell_type": "code",
   "execution_count": 11,
   "id": "2825c605",
   "metadata": {},
   "outputs": [],
   "source": [
    "for num in spamsets:\n",
    "    spam_model = svm.SVC(kernel = \"linear\")\n",
    "    spam_model.fit(X_spamTraining_data[:num, :], y_spamTraining_labels[:num])\n",
    "\n",
    "    x_pred = spam_model.predict(X_spamTraining_data[:num, :])\n",
    "    y_pred = spam_model.predict(X_spamValidation_data[:num, :])\n",
    "\n",
    "    v_acc, t_acc = accuracy_score(y_spamValidation_labels[:num], y_pred), accuracy_score(y_spamTraining_labels[:num], x_pred)\n",
    "    \n",
    "    spamtrain_acc.append(t_acc)\n",
    "    spamval_acc.append(v_acc)\n",
    "    "
   ]
  },
  {
   "cell_type": "code",
   "execution_count": 12,
   "id": "7c4b6aae",
   "metadata": {},
   "outputs": [
    {
     "data": {
      "image/png": "[encoded data removed]",
      "text/plain": [
       "<Figure size 432x288 with 1 Axes>"
      ]
     },
     "metadata": {
      "needs_background": "light"
     },
     "output_type": "display_data"
    }
   ],
   "source": [
    "plt.plot(spamsets, spamval_acc, label = \"Validation Data\")\n",
    "plt.plot(spamsets, spamtrain_acc, label = \"Training Data\")\n",
    "plt.title('Spam Accuracy')\n",
    "plt.xlabel('Number of Training Examples')\n",
    "plt.ylabel('Accuracy')\n",
    "plt.legend()\n",
    "plt.show()"
   ]
  },
  {
   "cell_type": "code",
   "execution_count": 13,
   "id": "35fc4042",
   "metadata": {},
   "outputs": [],
   "source": [
    "cisets = [100, 200, 500, 1000, 2000, 5000]\n",
    "citrain_acc = []\n",
    "cival_acc = []"
   ]
  },
  {
   "cell_type": "code",
   "execution_count": 14,
   "id": "ca234156",
   "metadata": {},
   "outputs": [],
   "source": [
    "for num in cisets:\n",
    "    ci_model = svm.SVC(kernel = \"linear\")\n",
    "    ci_model.fit(X_cifarTraining_data[:num, :], y_cifarTraining_labels[:num])\n",
    "\n",
    "    x_pred = ci_model.predict(X_cifarTraining_data[:num, :])\n",
    "    y_pred = ci_model.predict(X_cifarValidation_data[:num, :])\n",
    "\n",
    "    v_acc, t_acc = accuracy_score(y_cifarValidation_labels[:num], y_pred), accuracy_score(y_cifarTraining_labels[:num], x_pred)\n",
    "    \n",
    "    citrain_acc.append(t_acc)\n",
    "    cival_acc.append(v_acc)\n",
    "    "
   ]
  },
  {
   "cell_type": "code",
   "execution_count": 15,
   "id": "3eb06279",
   "metadata": {},
   "outputs": [
    {
     "data": {
      "image/png": "[encoded data removed]",
      "text/plain": [
       "<Figure size 432x288 with 1 Axes>"
      ]
     },
     "metadata": {
      "needs_background": "light"
     },
     "output_type": "display_data"
    }
   ],
   "source": [
    "plt.plot(cisets, cival_acc, label = \"Validation Data\")\n",
    "plt.plot(cisets, citrain_acc, label = \"Training Data\")\n",
    "plt.title('Cifar-10 Accuracy')\n",
    "plt.xlabel('Number of Training Examples')\n",
    "plt.ylabel('Accuracy')\n",
    "plt.legend()\n",
    "plt.show()"
   ]
  },
  {
   "cell_type": "markdown",
   "id": "6f56696b",
   "metadata": {},
   "source": [
    "### QUESTION 4:"
   ]
  },
  {
   "cell_type": "code",
   "execution_count": 16,
   "id": "7232f849",
   "metadata": {},
   "outputs": [
    {
     "data": {
      "text/plain": [
       "[1e-05, 0.0001, 0.001, 0.01, 0.1, 1, 10, 100, 1000, 10000, 100000]"
      ]
     },
     "execution_count": 16,
     "metadata": {},
     "output_type": "execute_result"
    }
   ],
   "source": [
    "a = 1\n",
    "r = 10\n",
    "length = 6\n",
    "\n",
    "geometric = [a * r ** (n - 1) for n in range(1, length + 1)]\n",
    "l = [0.00001, 0.0001, 0.001, 0.01, 0.1]\n",
    "\n",
    "c_list = l + geometric\n",
    "c_list"
   ]
  },
  {
   "cell_type": "code",
   "execution_count": 17,
   "id": "b1ad627a",
   "metadata": {},
   "outputs": [
    {
     "name": "stdout",
     "output_type": "stream",
     "text": [
      "c: 1e-05, validation accuracy: 0.1131\n",
      "c: 0.0001, validation accuracy: 0.7632\n",
      "c: 0.001, validation accuracy: 0.8978\n",
      "c: 0.01, validation accuracy: 0.9262\n",
      "c: 0.1, validation accuracy: 0.9308\n",
      "c: 1, validation accuracy: 0.9152\n",
      "c: 10, validation accuracy: 0.9095\n",
      "c: 100, validation accuracy: 0.9095\n",
      "c: 1000, validation accuracy: 0.9095\n",
      "c: 10000, validation accuracy: 0.9095\n",
      "c: 100000, validation accuracy: 0.9095\n"
     ]
    }
   ],
   "source": [
    "num = 10000\n",
    "validation_acc = []\n",
    "training_acc = []\n",
    "\n",
    "for c in c_list:\n",
    "    model = svm.SVC(C=c, kernel = \"linear\")\n",
    "    model.fit(X_mnistTraining_data[:num, :], y_mnistTraining_labels[:num])\n",
    "    \n",
    "    x_pred = model.predict(X_mnistTraining_data[:num, :])\n",
    "    y_pred = model.predict(X_mnistValidation_data[:num, :])\n",
    "\n",
    "    validation_acc, training_acc = accuracy_score(\n",
    "        y_mnistValidation_labels[:num], y_pred), accuracy_score(y_mnistTraining_labels[:num], x_pred)\n",
    "    \n",
    "    print(\"c: \" + str(c) + \", validation accuracy: \" + str(validation_acc))"
   ]
  },
  {
   "cell_type": "code",
   "execution_count": 18,
   "id": "79590e7e",
   "metadata": {},
   "outputs": [
    {
     "name": "stdout",
     "output_type": "stream",
     "text": [
      "c: 1e-05, validation accuracy: 0.1131\n",
      "c: 0.0001, validation accuracy: 0.1131\n",
      "c: 0.001, validation accuracy: 0.1131\n",
      "c: 0.01, validation accuracy: 0.7663\n",
      "c: 0.1, validation accuracy: 0.9282\n",
      "c: 1, validation accuracy: 0.9604\n",
      "c: 10, validation accuracy: 0.9677\n",
      "c: 100, validation accuracy: 0.9677\n",
      "c: 1000, validation accuracy: 0.9677\n",
      "c: 10000, validation accuracy: 0.9677\n",
      "c: 100000, validation accuracy: 0.9677\n"
     ]
    }
   ],
   "source": [
    "num = 10000\n",
    "validation_acc = []\n",
    "training_acc = []\n",
    "\n",
    "for c in c_list:\n",
    "    model = svm.SVC(C=c, kernel = \"rbf\")\n",
    "    model.fit(X_mnistTraining_data[:num, :], y_mnistTraining_labels[:num])\n",
    "    \n",
    "    x_pred = model.predict(X_mnistTraining_data[:num, :])\n",
    "    y_pred = model.predict(X_mnistValidation_data[:num, :])\n",
    "\n",
    "    validation_acc, training_acc = accuracy_score(\n",
    "        y_mnistValidation_labels[:num], y_pred), accuracy_score(y_mnistTraining_labels[:num], x_pred)\n",
    "    \n",
    "    print(\"c: \" + str(c) + \", validation accuracy: \" + str(validation_acc))"
   ]
  },
  {
   "cell_type": "markdown",
   "id": "2822db4b",
   "metadata": {},
   "source": [
    "Printed above are the c-values I tested, along with their corresponding validation accuracies. I trained using a linear kernel, and found 0.1 to be the best c value for the validation set with a score of 93.08%. I also tested separately using a rbf kernel and found an even better set of hyperparameters: c = 10 with a validation score of 96.77%. The code can all be found in the code index. "
   ]
  },
  {
   "cell_type": "markdown",
   "id": "374365a6",
   "metadata": {},
   "source": [
    "### Question 5: K-Fold Cross Validation"
   ]
  },
  {
   "cell_type": "code",
   "execution_count": 7,
   "id": "e0dd9cb7",
   "metadata": {},
   "outputs": [],
   "source": [
    "k = 5\n",
    "cross_val_acc = []"
   ]
  },
  {
   "cell_type": "code",
   "execution_count": 8,
   "id": "f68993ee",
   "metadata": {},
   "outputs": [],
   "source": [
    "spam_train = spam_data['training_data']\n",
    "spam_label = spam_data['training_labels']\n",
    "\n",
    "merged = list(zip(spam_train, spam_label))\n",
    "shuffled = random.sample(merged, len(merged))"
   ]
  },
  {
   "cell_type": "code",
   "execution_count": 9,
   "id": "a659cd0d",
   "metadata": {},
   "outputs": [],
   "source": [
    "# Splitting the data into 5-folds\n",
    "\n",
    "fold1 = shuffled[0:833]                                            \n",
    "fold2 = shuffled[834:1668]\n",
    "fold3 = shuffled[1669:2503]\n",
    "fold4 = shuffled[2504:3338]\n",
    "fold5 = shuffled[3339:4172]"
   ]
  },
  {
   "cell_type": "code",
   "execution_count": 10,
   "id": "7f6287b3",
   "metadata": {},
   "outputs": [],
   "source": [
    "train_1 = fold1 + fold2 + fold3 + fold4\n",
    "test_1 = fold5\n",
    "\n",
    "train_2 = fold1 + fold2 + fold3 + fold5\n",
    "test_2 = fold4\n",
    "\n",
    "train_3 = fold1 + fold2 + fold4 + fold5\n",
    "test_3 = fold3\n",
    "\n",
    "train_4 = fold1 + fold3 + fold4 + fold5\n",
    "test_4 = fold2\n",
    "\n",
    "train_5 = fold2 + fold3 + fold4 + fold5\n",
    "test_5 = fold1\n",
    "\n",
    "folds = [[train_1, test_1], [train_2, test_2], [train_3, test_3], [train_4, test_4], [train_5, test_5]]"
   ]
  },
  {
   "cell_type": "code",
   "execution_count": 11,
   "id": "9c398134",
   "metadata": {},
   "outputs": [
    {
     "name": "stdout",
     "output_type": "stream",
     "text": [
      "c: 0.0001, validation accuracy: 0.7144958702905623\n",
      "c: 0.001, validation accuracy: 0.7471259007200002\n",
      "c: 0.01, validation accuracy: 0.7790365066890066\n",
      "c: 0.1, validation accuracy: 0.794869890402204\n",
      "c: 0.25, validation accuracy: 0.7987091239373447\n",
      "c: 1, validation accuracy: 0.8001479728582079\n",
      "c: 10, validation accuracy: 0.8023071098943173\n",
      "c: 100, validation accuracy: 0.8023065341244411\n"
     ]
    }
   ],
   "source": [
    "c_list_mod = [0.0001, 0.001, 0.01, 0.1, 0.25, 1, 10, 100]\n",
    "\n",
    "for c in c_list_mod:\n",
    "    validation = []\n",
    "    for fold in folds:\n",
    "        training, testing = fold[0], fold[1]\n",
    "        train, train_label = zip(*training)\n",
    "        test, test_label = zip(*testing)\n",
    "\n",
    "        model = svm.SVC(C=c, kernel = \"linear\")\n",
    "        model.fit(train, train_label)\n",
    "\n",
    "        y_pred = model.predict(test)\n",
    "\n",
    "        validation.append(accuracy_score(test_label, y_pred))\n",
    "        \n",
    "    avg_val = (sum(validation)) / 5\n",
    "    print(\"c: \" + str(c) + \", validation accuracy: \" + str(avg_val))"
   ]
  },
  {
   "cell_type": "markdown",
   "id": "1c9a1097",
   "metadata": {},
   "source": [
    "Best C value for 5-fold cross validation: 100\n",
    "\n",
    "Validation Score: 80.23%"
   ]
  },
  {
   "cell_type": "markdown",
   "id": "f9f3cef0",
   "metadata": {},
   "source": [
    "### Question 6: Kaggle"
   ]
  },
  {
   "cell_type": "code",
   "execution_count": 12,
   "id": "64da05b3",
   "metadata": {},
   "outputs": [
    {
     "name": "stdout",
     "output_type": "stream",
     "text": [
      "c: 10, validation accuracy: 0.9698\n"
     ]
    }
   ],
   "source": [
    "# MNIST data\n",
    "\n",
    "c = 10\n",
    "kernel = \"rbf\"\n",
    "num = 10000\n",
    "    \n",
    "mnist_model = svm.SVC(C=10, kernel = \"rbf\")\n",
    "mnist_model.fit(X_mnistTraining_data[:num, :], y_mnistTraining_labels[:num])\n",
    "\n",
    "y_pred = mnist_model.predict(X_mnistValidation_data[:num, :])\n",
    "\n",
    "validation_acc = accuracy_score(y_mnistValidation_labels[:num], y_pred)\n",
    " \n",
    "print(\"c: \" + str(c) + \", validation accuracy: \" + str(validation_acc))"
   ]
  },
  {
   "cell_type": "code",
   "execution_count": 13,
   "id": "a1054cc6",
   "metadata": {},
   "outputs": [],
   "source": [
    "num = 10000\n",
    "\n",
    "mnist = np.load(f\"../data/mnist-data.npz\")\n",
    "mnist_t = mnist[\"test_data\"]\n",
    "mnist_test = mnist_t.reshape(10000, 784)\n",
    "\n",
    "mnist_model = svm.SVC(C=10, kernel = \"rbf\")\n",
    "mnist_model.fit(X_mnistTraining_data[:num, :], y_mnistTraining_labels[:num])\n",
    "\n",
    "mnist_yTest = mnist_model.predict(mnist_test)\n",
    "\n",
    "results_to_csv(mnist_yTest)"
   ]
  },
  {
   "cell_type": "markdown",
   "id": "4a23b025",
   "metadata": {},
   "source": [
    "For the MNIST dataset, I played around with different c values and kernels. I found that a combination of an rbf kernel and a corresponding c value of 10 was the most optimal for validation accuracies."
   ]
  },
  {
   "cell_type": "markdown",
   "id": "947a4b49",
   "metadata": {},
   "source": [
    "### MNIST Kaggle Score: 0.96766"
   ]
  },
  {
   "cell_type": "code",
   "execution_count": 16,
   "id": "ab6853bb",
   "metadata": {},
   "outputs": [
    {
     "name": "stdout",
     "output_type": "stream",
     "text": [
      "c: 1000, validation accuracy: 0.815347721822542\n"
     ]
    }
   ],
   "source": [
    "# Spam/Ham data\n",
    "# I modified featurized.py to include an additional features\n",
    "\n",
    "c_spam = 1000\n",
    "num = 10000\n",
    "spam_mod = svm.SVC(C=1000, kernel = \"rbf\")\n",
    "spam_mod.fit(X_spamTraining_data[:num, :], y_spamTraining_labels[:num])\n",
    "    \n",
    "y_pred = spam_mod.predict(X_spamValidation_data[:num, :])\n",
    "\n",
    "validation_acc = accuracy_score(y_spamValidation_labels[:num], y_pred)\n",
    "print(\"c: \" + str(c_spam) + \", validation accuracy: \" + str(validation_acc))"
   ]
  },
  {
   "cell_type": "code",
   "execution_count": 17,
   "id": "85c99dc5",
   "metadata": {},
   "outputs": [],
   "source": [
    "num = 10000\n",
    "\n",
    "spam = np.load(f\"../data/spam-data.npz\")\n",
    "spam_test = spam[\"test_data\"]\n",
    "\n",
    "spam_model = svm.SVC(C=1000, kernel = \"rbf\")\n",
    "spam_model.fit(X_spamTraining_data[:num, :], y_spamTraining_labels[:num])\n",
    "\n",
    "spam_yTest = spam_model.predict(spam_test)\n",
    "\n",
    "results_to_csv(spam_yTest)"
   ]
  },
  {
   "cell_type": "markdown",
   "id": "483b9047",
   "metadata": {},
   "source": [
    "For the spam dataset, I modified featurize.py to include more characters and word counts. For example, I included features such as \"/\", \"subscribe\", and \"click\" to pick up on phrases and characters commonly found in spam emails. In addition, I tested on different kernels and c values, narrowing down the optimal c = 1000 for the rbf kernel."
   ]
  },
  {
   "cell_type": "markdown",
   "id": "69dd38c5",
   "metadata": {},
   "source": [
    "### SPAM Kaggle Score: 0.8133"
   ]
  },
  {
   "cell_type": "code",
   "execution_count": 18,
   "id": "c749482c",
   "metadata": {},
   "outputs": [
    {
     "name": "stdout",
     "output_type": "stream",
     "text": [
      "c: 0.001, validation accuracy: 0.2942\n",
      "c: 0.01, validation accuracy: 0.3776\n",
      "c: 0.1, validation accuracy: 0.4152\n",
      "c: 1, validation accuracy: 0.4078\n",
      "c: 10, validation accuracy: 0.3934\n",
      "c: 100, validation accuracy: 0.387\n",
      "c: 1000, validation accuracy: 0.3866\n"
     ]
    }
   ],
   "source": [
    "# CIFAR-10 data\n",
    "# I played around with different c values and used a nonlinear model ('poly') to determine the best hyperparameters\n",
    "\n",
    "a = 1\n",
    "r = 10\n",
    "length = 4\n",
    "\n",
    "geometric = [a * r ** (n - 1) for n in range(1, length + 1)]\n",
    "l = [0.001, 0.01, 0.1]\n",
    "\n",
    "c_list = l + geometric\n",
    "\n",
    "num = 5000\n",
    "validation_acc = []\n",
    "training_acc = []\n",
    "\n",
    "for c in c_list:\n",
    "    model = svm.SVC(C=c, kernel = \"poly\")\n",
    "    model.fit(X_cifarTraining_data[:num, :], y_cifarTraining_labels[:num])\n",
    "    \n",
    "    #x_pred = model.predict(X_cifarTraining_data[:num, :])\n",
    "    y_pred = model.predict(X_cifarValidation_data)\n",
    "\n",
    "    validation_acc = accuracy_score(y_cifarValidation_labels, y_pred)\n",
    "    \n",
    "    print(\"c: \" + str(c) + \", validation accuracy: \" + str(validation_acc))"
   ]
  },
  {
   "cell_type": "markdown",
   "id": "9a538dba",
   "metadata": {},
   "source": [
    "For the cifar-10 dataset, I tested different c values and nonlinear models. Out of the hyperparameters, I found c=0.1 with kernel=poly to be the most optimal combination for the validation data."
   ]
  },
  {
   "cell_type": "code",
   "execution_count": 27,
   "id": "fc53da82",
   "metadata": {},
   "outputs": [],
   "source": [
    "num = 5000\n",
    "\n",
    "cifar = np.load(f\"../data/cifar10-data.npz\")\n",
    "cifar_test = cifar[\"test_data\"]\n",
    "\n",
    "cifar_model = svm.SVC(kernel = 'poly', C = 0.1)\n",
    "cifar_model.fit(X_cifarTraining_data[:num, :], y_cifarTraining_labels[:num])\n",
    "\n",
    "cifar_yTest = cifar_model.predict(cifar_test)\n",
    "\n",
    "results_to_csv(cifar_yTest)"
   ]
  },
  {
   "cell_type": "markdown",
   "id": "3a3db6c4",
   "metadata": {},
   "source": [
    "### CIFAR-10 Kaggle Score: 0.419"
   ]
  },
  {
   "cell_type": "code",
   "execution_count": null,
   "id": "dfc02310",
   "metadata": {},
   "outputs": [],
   "source": []
  }
 ],
 "metadata": {
  "kernelspec": {
   "display_name": "Python 3 (ipykernel)",
   "language": "python",
   "name": "python3"
  },
  "language_info": {
   "codemirror_mode": {
    "name": "ipython",
    "version": 3
   },
   "file_extension": ".py",
   "mimetype": "text/x-python",
   "name": "python",
   "nbconvert_exporter": "python",
   "pygments_lexer": "ipython3",
   "version": "3.9.12"
  }
 },
 "nbformat": 4,
 "nbformat_minor": 5
}
