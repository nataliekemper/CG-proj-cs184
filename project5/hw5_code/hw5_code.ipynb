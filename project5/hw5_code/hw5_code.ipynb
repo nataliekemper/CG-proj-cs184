{
 "cells": [
  {
   "cell_type": "code",
   "execution_count": 1,
   "id": "7cd80772",
   "metadata": {},
   "outputs": [],
   "source": [
    "# You may want to install \"gprof2dot\" \n",
    "import io\n",
    "from collections import Counter\n",
    "\n",
    "import numpy as np\n",
    "import matplotlib.pyplot as plt\n",
    "import sys\n",
    "import pandas as pd\n",
    "import random\n",
    "import scipy.io\n",
    "import sklearn.model_selection\n",
    "import sklearn.tree\n",
    "from numpy import genfromtxt\n",
    "from scipy import stats\n",
    "from sklearn.base import BaseEstimator, ClassifierMixin\n",
    "\n",
    "import pydot"
   ]
  },
  {
   "cell_type": "code",
   "execution_count": 2,
   "id": "8dcc065a",
   "metadata": {},
   "outputs": [],
   "source": [
    "eps = 1e-5  # a small number     "
   ]
  },
  {
   "cell_type": "markdown",
   "id": "cd5311c6",
   "metadata": {},
   "source": [
    "# Question 4: Decision Trees for Classification"
   ]
  },
  {
   "cell_type": "markdown",
   "id": "b3e82d43",
   "metadata": {},
   "source": [
    "## 4.1: Implement Decision Trees"
   ]
  },
  {
   "cell_type": "code",
   "execution_count": 3,
   "id": "51a4cae5",
   "metadata": {},
   "outputs": [],
   "source": [
    "class DecisionTree:\n",
    "    def __init__(self, max_depth=3, feature_labels=None, m=None):\n",
    "        self.max_depth = max_depth\n",
    "        self.features = feature_labels\n",
    "        self.left, self.right = None, None  # for non-leaf nodes\n",
    "        self.split_idx, self.thresh = None, None  # for non-leaf nodes\n",
    "        self.data, self.pred = None, None  # for leaf nodes\n",
    "        # adding max number of features m\n",
    "        self.m = m\n",
    "        \n",
    "\n",
    "    @staticmethod\n",
    "    def information_gain(X, y, thresh):\n",
    "        # TODO: implement information gain function\n",
    "        # H(S) - H(after)\n",
    "    \n",
    "        splitl = np.where(X <= thresh)\n",
    "        splitr = np.where(X > thresh)\n",
    "    \n",
    "        # Splitting the labels based on the threshold \n",
    "        sl = y[splitl]\n",
    "        sr = y[splitr]\n",
    "        \n",
    "        HS = DecisionTree.entropy(y)\n",
    "        HSL = DecisionTree.entropy(sl)\n",
    "        HSR = DecisionTree.entropy(sr)\n",
    "        \n",
    "        H_after = ((len(sl) * HSL) + (len(sr) * HSR)) / (len(sl) + len(sr))\n",
    "        \n",
    "        return (HS - H_after)\n",
    "\n",
    "    @staticmethod\n",
    "    def gini_impurity(X, y, thresh):\n",
    "        # TODO: implement gini impurity function\n",
    "        pass\n",
    "    \n",
    "    @staticmethod\n",
    "    def entropy(y):\n",
    "        # TODO: implement entropy function\n",
    "        H = 0\n",
    "        sorted_y, unique_counts = np.unique(y, return_counts = True)\n",
    "        num_classes = len(sorted_y)\n",
    "        for i in unique_counts:\n",
    "            pc = i / num_classes\n",
    "            product = pc * np.log2(pc)\n",
    "            H += product\n",
    "        return H\n",
    "\n",
    "    def split(self, X, y, idx, thresh):\n",
    "        X0, idx0, X1, idx1 = self.split_test(X, idx=idx, thresh=thresh)\n",
    "        y0, y1 = y[idx0], y[idx1]\n",
    "        return X0, y0, X1, y1\n",
    "\n",
    "    def split_test(self, X, idx, thresh):\n",
    "        idx0 = np.where(X[:, idx] < thresh)[0]\n",
    "        idx1 = np.where(X[:, idx] >= thresh)[0]\n",
    "        X0, X1 = X[idx0, :], X[idx1, :]\n",
    "        return X0, idx0, X1, idx1\n",
    "\n",
    "    def fit(self, X, y):\n",
    "        if self.max_depth > 0:\n",
    "            # compute entropy gain for all single-dimension splits,\n",
    "            # thresholding with a linear interpolation of 10 values\n",
    "            gains = []\n",
    "            # The following logic prevents thresholding on exactly the minimum\n",
    "            # or maximum values, which may not lead to any meaningful node\n",
    "            # splits.\n",
    "            \n",
    "            # picking m random features out of total d features and selecting only those features for X\n",
    "            data = X\n",
    "            if self.m:\n",
    "                m_feature_ids = np.random.choice(X.shape[1], size = self.m, replace = False)\n",
    "                X = data[:, m_feature_ids]\n",
    "            else:\n",
    "                X = data\n",
    "\n",
    "            thresh = np.array([\n",
    "                np.linspace(np.min(X[:, i]) + eps, np.max(X[:, i]) - eps, num=10)\n",
    "                for i in range(X.shape[1])\n",
    "            ])\n",
    "            \n",
    "            if self.m:\n",
    "                for i in range(self.m):\n",
    "                    gains.append([self.information_gain(X[:, i], y, t) for t in thresh[i, :]])\n",
    "            else:\n",
    "                for i in range(X.shape[1]):\n",
    "                    gains.append([self.information_gain(X[:, i], y, t) for t in thresh[i, :]])\n",
    "\n",
    "            gains = np.nan_to_num(np.array(gains))\n",
    "            \n",
    "            self.split_idx, thresh_idx = np.unravel_index(np.argmax(gains), gains.shape)\n",
    "            self.thresh = thresh[self.split_idx, thresh_idx]\n",
    "            if self.m:\n",
    "                self.split_idx = m_feature_ids[self.split_idx]\n",
    "            \n",
    "            # splitting on the original data\n",
    "            X0, y0, X1, y1 = self.split(data, y, idx=self.split_idx, thresh=self.thresh)\n",
    "            if X0.size > 0 and X1.size > 0:\n",
    "                self.left = DecisionTree(\n",
    "                    max_depth=self.max_depth - 1, feature_labels=self.features)\n",
    "                self.left.fit(X0, y0)\n",
    "                self.right = DecisionTree(\n",
    "                    max_depth=self.max_depth - 1, feature_labels=self.features)\n",
    "                self.right.fit(X1, y1)\n",
    "            else:\n",
    "                self.max_depth = 0\n",
    "                self.data, self.labels = X, y\n",
    "                self.pred = stats.mode(y).mode[0]\n",
    "        else:\n",
    "            self.data, self.labels = X, y\n",
    "            self.pred = stats.mode(y).mode[0]\n",
    "        return self\n",
    "\n",
    "    def predict(self, X):\n",
    "        if self.max_depth == 0:\n",
    "            return self.pred * np.ones(X.shape[0])\n",
    "        else:\n",
    "            X0, idx0, X1, idx1 = self.split_test(X, idx=self.split_idx, thresh=self.thresh)\n",
    "            yhat = np.zeros(X.shape[0])\n",
    "            yhat[idx0] = self.left.predict(X0)\n",
    "            yhat[idx1] = self.right.predict(X1)\n",
    "            return yhat\n",
    "\n",
    "    def __repr__(self):\n",
    "        if self.max_depth == 0:\n",
    "            return \"%s (%s)\" % (self.pred, self.labels.size)\n",
    "        else:\n",
    "            return \"[%s < %s: %s | %s]\" % (self.features[self.split_idx],\n",
    "                                           self.thresh, self.left.__repr__(),\n",
    "                                           self.right.__repr__())\n",
    "\n"
   ]
  },
  {
   "cell_type": "markdown",
   "id": "2b908d0d",
   "metadata": {},
   "source": [
    "## 4.2 Implement Random Forest"
   ]
  },
  {
   "cell_type": "code",
   "execution_count": 4,
   "id": "47d8b6f4",
   "metadata": {},
   "outputs": [],
   "source": [
    "class BaggedTrees(BaseEstimator, ClassifierMixin):\n",
    "    def __init__(self, m_depth = 3, n = 200, features = None):\n",
    "        self.n = n\n",
    "        self.m_depth = m_depth\n",
    "        self.decision_trees = [\n",
    "            DecisionTree(max_depth = m_depth, feature_labels = features) for i in range(self.n)]\n",
    "\n",
    "    def fit(self, X, y):\n",
    "        # TODO: implement function\n",
    "        for n in range(self.n):\n",
    "            row = X.shape[0]\n",
    "            sample = np.random.choice(np.arange(row), size = row, replace = True)\n",
    "            X_train = X[sample]\n",
    "            y_train = y[sample]\n",
    "            self.decision_trees[n].fit(X_train, y_train)\n",
    "        return self\n",
    "\n",
    "    def predict(self, X):\n",
    "        # TODO: implement function   \n",
    "        y_hats = []\n",
    "        for i in range(self.n):\n",
    "            pred = self.decision_trees[i].predict(X)\n",
    "            y_hats.append(pred)\n",
    "\n",
    "        return np.round(np.mean(y_hats, axis=0))"
   ]
  },
  {
   "cell_type": "code",
   "execution_count": 5,
   "id": "65cd1252",
   "metadata": {},
   "outputs": [],
   "source": [
    "class RandomForest(BaggedTrees):\n",
    "    def __init__(self, m_depth, features, n=200, m=1): \n",
    "        # TODO: implement function\n",
    "        self.params = params\n",
    "        self.m = m\n",
    "        self.n = n\n",
    "        self.decision_trees = [\n",
    "            DecisionTree(max_depth = m_depth, feature_labels = features, m = m) for i in range(self.n)]\n",
    "        \n",
    "        "
   ]
  },
  {
   "cell_type": "code",
   "execution_count": 6,
   "id": "75f43007",
   "metadata": {},
   "outputs": [],
   "source": [
    "class BoostedRandomForest(RandomForest):\n",
    "    def fit(self, X, y):\n",
    "        self.w = np.ones(X.shape[0]) / X.shape[0]  # Weights on data\n",
    "        self.a = np.zeros(self.n)  # Weights on decision trees\n",
    "        # TODO: implement function\n",
    "        return self\n",
    "\n",
    "    def predict(self, X):\n",
    "        # TODO: implement function\n",
    "        pass\n",
    "\n",
    "\n",
    "def preprocess(data, fill_mode=True, min_freq=10, onehot_cols=[]):\n",
    "    # fill_mode = False\n",
    "\n",
    "    # Temporarily assign -1 to missing data\n",
    "    data[data == ''] = '-1'\n",
    "\n",
    "    # Hash the columns (used for handling strings)\n",
    "    onehot_encoding = []\n",
    "    onehot_features = []\n",
    "    for col in onehot_cols:\n",
    "        counter = Counter(data[:, col])\n",
    "        for term in counter.most_common():\n",
    "            if term[0] == '-1':\n",
    "                continue\n",
    "            if term[-1] <= min_freq:\n",
    "                break\n",
    "            onehot_features.append(term[0])\n",
    "            onehot_encoding.append((data[:, col] == term[0]).astype(float))\n",
    "        data[:, col] = '0'\n",
    "    onehot_encoding = np.array(onehot_encoding).T\n",
    "    data = np.hstack([np.array(data, dtype=float), np.array(onehot_encoding)])\n",
    "\n",
    "    # Replace missing data with the mode value. We use the mode instead of\n",
    "    # the mean or median because this makes more sense for categorical\n",
    "    # features such as gender or cabin type, which are not ordered.\n",
    "    if fill_mode:\n",
    "        for i in range(data.shape[-1]):\n",
    "            mode = stats.mode(data[((data[:, i] < -1 - eps) +\n",
    "                                    (data[:, i] > -1 + eps))][:, i]).mode[0]\n",
    "            data[(data[:, i] > -1 - eps) * (data[:, i] < -1 + eps)][:, i] = mode\n",
    "\n",
    "    return data, onehot_features\n",
    "\n",
    "\n",
    "def evaluate(clf):\n",
    "    print(\"Cross validation\", sklearn.model_selection.cross_val_score(clf, X, y))\n",
    "    if hasattr(clf, \"decision_trees\"):\n",
    "        counter = Counter([t.tree_.feature[0] for t in clf.decision_trees])\n",
    "        first_splits = [(features[term[0]], term[1]) for term in counter.most_common()]\n",
    "        print(\"First splits\", first_splits)"
   ]
  },
  {
   "cell_type": "markdown",
   "id": "9c7ee2e6",
   "metadata": {},
   "source": [
    "## 4.3 Describe Implementation Details"
   ]
  },
  {
   "cell_type": "markdown",
   "id": "4ea2c823",
   "metadata": {},
   "source": [
    "1.) The process to clean the data consisted of removing rows where labels (whether they survived or not) were completely missing. This ensured that every row would have a corresponding label. In addition, hotcoding allowed categorical variables such as gender or embarked to be mapped to binary vectors of zeros and ones. This helped deal with the catagorical features. In addition, to account for missing data values, we could use the mode of each feature and input that into each missing data value.\n",
    "\n",
    "2.) I used the maximum depth as my stopping criterion. A depth that is too high can result in overfitting, so I had to make sure to use a depth that would not increase the bias too much. \n",
    "\n",
    "3.) I added a m value to my decision tree class to choose m features before splitting between features. Additionally, since my Random Forest inherited my BaggedTrees class, I simply created a list of decision trees (a forest if you will) using m features. For my BaggedTrees class, I sampled with replacement and trained on each sample. I had my forest pick the the optimal sample from my BaggedTrees class. \n",
    "\n",
    "4.) I did not do anything special to optimize speed. \n",
    "\n",
    "5.) No"
   ]
  },
  {
   "cell_type": "code",
   "execution_count": 7,
   "id": "b993dc77",
   "metadata": {},
   "outputs": [
    {
     "name": "stdout",
     "output_type": "stream",
     "text": [
      "\n",
      "\n",
      "Part (b): preprocessing the titanic dataset\n",
      "Features: ['pclass', 'sex', 'age', 'sibsp', 'parch', 'ticket', 'fare', 'cabin', 'embarked', 'male', 'female', 'S', 'C', 'Q']\n",
      "Train/test size: (999, 14) (310, 14)\n",
      "\n",
      "\n",
      "Part 0: constant classifier\n",
      "Accuracy 0.6166166166166166\n",
      "\n",
      "\n",
      "Part (a-b): simplified decision tree\n",
      "Predictions [0. 0. 1. 1. 0. 0. 1. 1. 0. 1. 0. 1. 0. 1. 1. 0. 0. 0. 1. 0. 0. 0. 1. 0.\n",
      " 0. 1. 0. 1. 0. 1. 0. 0. 0. 1. 1. 0. 0. 0. 0. 1. 0. 0. 0. 0. 0. 1. 0. 1.\n",
      " 0. 1. 1. 0. 1. 1. 1. 1. 0. 1. 0. 1. 1. 0. 0. 0. 0. 1. 0. 0. 1. 0. 0. 0.\n",
      " 0. 0. 0. 0. 1. 0. 1. 0. 1. 0. 0. 0. 0. 0. 1. 1. 0. 0. 0. 0. 0. 0. 1. 0.\n",
      " 0. 0. 0. 0.]\n",
      "\n",
      "\n",
      "Part (c): sklearn's decision tree\n",
      "Cross validation [0.795      0.825      0.805      0.755      0.74371859]\n"
     ]
    }
   ],
   "source": [
    "if __name__ == \"__main__\":\n",
    "    dataset = \"titanic\"\n",
    "    params = {\n",
    "        \"max_depth\": 5,\n",
    "        # \"random_state\": 6,\n",
    "        \"min_samples_leaf\": 10,\n",
    "    }\n",
    "    N = 100\n",
    "\n",
    "    if dataset == \"titanic\":\n",
    "        # Load titanic data\n",
    "        path_train = './dataset/titanic/titanic_training.csv'\n",
    "        data = genfromtxt(path_train, delimiter=',', dtype=None, encoding=None)\n",
    "        path_test = './dataset/titanic/titanic_test_data.csv'\n",
    "        test_data = genfromtxt(path_test, delimiter=',', dtype=None, encoding=None)\n",
    "        y = data[1:, -1]  # label = survived\n",
    "        class_names = [\"Died\", \"Survived\"]\n",
    "        labeled_idx = np.where(y != '')[0]\n",
    "\n",
    "        y = np.array(y[labeled_idx])\n",
    "        y = y.astype(float).astype(int)\n",
    "\n",
    "\n",
    "        print(\"\\n\\nPart (b): preprocessing the titanic dataset\")\n",
    "        X, onehot_features = preprocess(data[1:, :-1], onehot_cols=[1, 5, 7, 8])\n",
    "        X = X[labeled_idx, :]\n",
    "        Z, _ = preprocess(test_data[1:, :], onehot_cols=[1, 5, 7, 8])\n",
    "        assert X.shape[1] == Z.shape[1]\n",
    "        features = list(data[0, :-1]) + onehot_features\n",
    "\n",
    "    elif dataset == \"spam\":\n",
    "        features = [\n",
    "            \"pain\", \"private\", \"bank\", \"money\", \"drug\", \"spam\", \"prescription\", \"creative\",\n",
    "            \"height\", \"featured\", \"differ\", \"width\", \"other\", \"energy\", \"business\", \"message\",\n",
    "            \"volumes\", \"revision\", \"path\", \"meter\", \"memo\", \"planning\", \"pleased\", \"record\", \"out\",\n",
    "            \"semicolon\", \"dollar\", \"sharp\", \"exclamation\", \"parenthesis\", \"square_bracket\",\n",
    "            \"ampersand\"\n",
    "        ]\n",
    "        assert len(features) == 32\n",
    "\n",
    "        # Load spam data\n",
    "        path_train = './dataset/spam/spam_data.mat'\n",
    "        data = scipy.io.loadmat(path_train)\n",
    "        X = data['training_data']\n",
    "        y = np.squeeze(data['training_labels'])\n",
    "        Z = data['test_data']\n",
    "        class_names = [\"Ham\", \"Spam\"]\n",
    "\n",
    "    else:\n",
    "        raise NotImplementedError(\"Dataset %s not handled\" % dataset)\n",
    "\n",
    "    print(\"Features:\", features)\n",
    "    print(\"Train/test size:\", X.shape, Z.shape)\n",
    "\n",
    "    print(\"\\n\\nPart 0: constant classifier\")\n",
    "    print(\"Accuracy\", 1 - np.sum(y) / y.size)\n",
    "\n",
    "    # Basic decision tree\n",
    "    print(\"\\n\\nPart (a-b): simplified decision tree\")\n",
    "    dt = DecisionTree(max_depth=3, feature_labels=features)\n",
    "    dt.fit(X, y)\n",
    "    print(\"Predictions\", dt.predict(Z)[:100])\n",
    "    \n",
    "    \n",
    "\n",
    "    print(\"\\n\\nPart (c): sklearn's decision tree\")\n",
    "    clf = sklearn.tree.DecisionTreeClassifier(random_state=0, **params)\n",
    "    clf.fit(X, y)\n",
    "    evaluate(clf)\n",
    "    out = io.StringIO()\n",
    "\n",
    "    # You may want to install \"gprof2dot\"\n",
    "    sklearn.tree.export_graphviz(\n",
    "        clf, out_file=out, feature_names=features, class_names=class_names)\n",
    "    graph = pydot.graph_from_dot_data(out.getvalue())\n",
    "    pydot.graph_from_dot_data(out.getvalue())[0].write_pdf(\"%s-tree.pdf\" % dataset)\n",
    "\n",
    "    # TODO: implement and evaluate!\n"
   ]
  },
  {
   "cell_type": "markdown",
   "id": "d79873ab",
   "metadata": {},
   "source": [
    "## 4.4 Performance Evaluation"
   ]
  },
  {
   "cell_type": "code",
   "execution_count": 8,
   "id": "53c3cf47",
   "metadata": {},
   "outputs": [],
   "source": [
    "def shuffle_data(array1, array2, num):\n",
    "    merged_list = list(zip(array1, array2))\n",
    "    \n",
    "    shuffled = random.sample(merged_list, len(merged_list))\n",
    "    \n",
    "    unfiltered_training, unfiltered_val = shuffled[num:], shuffled[:num]\n",
    "    \n",
    "    X_training_data, y_training_labels = zip(*unfiltered_training)\n",
    "    X_validation_data, y_validation_labels = zip(*unfiltered_val)\n",
    "    \n",
    "    return np.asarray(X_training_data), np.asarray(y_training_labels), np.asarray(X_validation_data), np.asarray(y_validation_labels)"
   ]
  },
  {
   "cell_type": "code",
   "execution_count": 9,
   "id": "bdf8361f",
   "metadata": {},
   "outputs": [],
   "source": [
    "spamData = scipy.io.loadmat(\"dataset/spam/spam_data.mat\")\n",
    "spam_trainingData = spamData['training_data']\n",
    "spam_trainingLabels = spamData['training_labels']\n",
    "spam_test = spamData['test_data']\n",
    "\n",
    "spam_training_data, spam_training_labels, spam_val_data, spam_val_labels = shuffle_data(\n",
    "    spam_trainingData, spam_trainingLabels, int(spam_trainingData.shape[0] * 0.2))\n",
    "\n",
    "feat = [\n",
    "            \"pain\", \"private\", \"bank\", \"money\", \"drug\", \"spam\", \"prescription\", \"creative\",\n",
    "            \"height\", \"featured\", \"differ\", \"width\", \"other\", \"energy\", \"business\", \"message\",\n",
    "            \"volumes\", \"revision\", \"path\", \"meter\", \"memo\", \"planning\", \"pleased\", \"record\", \"out\",\n",
    "            \"semicolon\", \"dollar\", \"sharp\", \"exclamation\", \"parenthesis\", \"square_bracket\",\n",
    "            \"ampersand\"\n",
    "        ]"
   ]
  },
  {
   "cell_type": "code",
   "execution_count": 10,
   "id": "1f0227eb",
   "metadata": {},
   "outputs": [
    {
     "name": "stdout",
     "output_type": "stream",
     "text": [
      "Training accuracy for SPAM using a Decision Tree: 0.790719696969697.\n",
      "Validation accuracy for SPAM using a Decision Tree: 0.7935606060606061.\n",
      "Training accuracy for SPAM using a Random Forest: 0.7831439393939394.\n",
      "Validation accuracy for SPAM using a Random Forest: 0.7945075757575758.\n"
     ]
    }
   ],
   "source": [
    "decisionTree = DecisionTree(max_depth = 6)\n",
    "randomForest = RandomForest(m_depth = 5, features = feat, n=200, m=4)\n",
    "\n",
    "decisionTree.fit(spam_training_data, spam_training_labels)\n",
    "randomForest.fit(spam_training_data, spam_training_labels)\n",
    "\n",
    "spam_training_pred = decisionTree.predict(spam_training_data)\n",
    "spam_val_pred = decisionTree.predict(spam_val_data)\n",
    "spam_training_pred_forest = randomForest.predict(spam_training_data)\n",
    "spam_val_pred_forest = randomForest.predict(spam_val_data)\n",
    "\n",
    "# Training accuracies \n",
    "spam_training_acc = np.sum(spam_training_pred == spam_training_labels.flatten()) / spam_training_data.shape[0]\n",
    "spam_training_acc_forest = np.sum(spam_training_pred_forest == spam_training_labels.flatten()) / spam_training_data.shape[0]\n",
    "\n",
    "# Validation accuracies \n",
    "spam_val_acc = np.sum(spam_val_pred == spam_val_labels.flatten()) / spam_val_data.shape[0]\n",
    "spam_val_acc_forest = np.sum(spam_val_pred_forest == spam_val_labels.flatten()) / spam_val_data.shape[0]\n",
    "\n",
    "print(f\"Training accuracy for SPAM using a Decision Tree: {spam_training_acc}.\")\n",
    "print(f\"Validation accuracy for SPAM using a Decision Tree: {spam_val_acc}.\")\n",
    "\n",
    "print(f\"Training accuracy for SPAM using a Random Forest: {spam_training_acc_forest}.\")\n",
    "print(f\"Validation accuracy for SPAM using a Random Forest: {spam_val_acc_forest}.\")\n"
   ]
  },
  {
   "cell_type": "code",
   "execution_count": 11,
   "id": "128bd837",
   "metadata": {},
   "outputs": [],
   "source": [
    "# Load and preprocess the titanic data\n",
    "path_train = './dataset/titanic/titanic_training.csv'\n",
    "data = genfromtxt(path_train, delimiter=',', dtype=None, encoding=None)\n",
    "path_test = './dataset/titanic/titanic_test_data.csv'\n",
    "test_data = genfromtxt(path_test, delimiter=',', dtype=None, encoding=None)\n",
    "y = data[1:, -1]  # label = survived\n",
    "class_names = [\"Died\", \"Survived\"]\n",
    "labeled_idx = np.where(y != '')[0]\n",
    "\n",
    "y = np.array(y[labeled_idx])\n",
    "y = y.astype(float).astype(int)\n",
    "\n",
    "X, onehot_features = preprocess(data[1:, :-1], onehot_cols=[1, 5, 7, 8])\n",
    "X = X[labeled_idx, :]\n",
    "Z, _ = preprocess(test_data[1:, :], onehot_cols=[1, 5, 7, 8])\n",
    "assert X.shape[1] == Z.shape[1]\n",
    "features = list(data[0, :-1]) + onehot_features\n",
    "\n",
    "titanicData = X\n",
    "titanicLabels = y\n",
    "titanicFeatures = features\n",
    "titanicTest = Z\n",
    "\n",
    "titanic_training_data, titanic_training_labels, titanic_val_data, titanic_val_labels = shuffle_data(\n",
    "    titanicData, titanicLabels, int(titanicData.shape[0] * 0.2))"
   ]
  },
  {
   "cell_type": "code",
   "execution_count": 22,
   "id": "dc36ae34",
   "metadata": {},
   "outputs": [
    {
     "name": "stdout",
     "output_type": "stream",
     "text": [
      "Training accuracy for Titanic using a Decision Tree: 0.65625.\n",
      "Validation accuracy for Titanic using a Decision Tree: 0.5778894472361809.\n",
      "Training accuracy for Titanic using a Random Forest: 0.78375.\n",
      "Validation accuracy for Titanic using a Random Forest: 0.7487437185929648.\n"
     ]
    }
   ],
   "source": [
    "decisionTree = DecisionTree(max_depth = 5)\n",
    "randomForest = RandomForest(m_depth = 6, features = titanicFeatures, n=200, m=4)\n",
    "\n",
    "decisionTree.fit(titanic_training_data, titanic_training_labels)\n",
    "randomForest.fit(titanic_training_data, titanic_training_labels)\n",
    "\n",
    "titanic_training_pred = decisionTree.predict(titanic_training_data)\n",
    "titanic_val_pred = decisionTree.predict(titanic_val_data)\n",
    "titanic_training_pred_forest = randomForest.predict(titanic_training_data)\n",
    "titanic_val_pred_forest = randomForest.predict(titanic_val_data)\n",
    "\n",
    "# Training accuracies \n",
    "titanic_training_acc = np.sum(titanic_training_pred == titanic_training_labels.flatten()) / titanic_training_data.shape[0]\n",
    "titanic_training_acc_forest = np.sum(titanic_training_pred_forest == titanic_training_labels.flatten()) / titanic_training_data.shape[0]\n",
    "\n",
    "# Validation accuracies \n",
    "titanic_val_acc = np.sum(titanic_val_pred == titanic_val_labels.flatten()) / titanic_val_data.shape[0]\n",
    "titanic_val_acc_forest = np.sum(titanic_val_pred_forest == titanic_val_labels.flatten()) / titanic_val_data.shape[0]\n",
    "\n",
    "print(f\"Training accuracy for Titanic using a Decision Tree: {titanic_training_acc}.\")\n",
    "print(f\"Validation accuracy for Titanic using a Decision Tree: {titanic_val_acc}.\")\n",
    "\n",
    "print(f\"Training accuracy for Titanic using a Random Forest: {titanic_training_acc_forest}.\")\n",
    "print(f\"Validation accuracy for Titanic using a Random Forest: {titanic_val_acc_forest}.\")\n"
   ]
  },
  {
   "cell_type": "code",
   "execution_count": 13,
   "id": "25eaf173",
   "metadata": {},
   "outputs": [],
   "source": [
    "def results_to_csv(y_test):\n",
    "    y_test = y_test.astype(int)\n",
    "    df = pd.DataFrame({'Category': y_test})\n",
    "    df.index += 1 # Ensures that the index starts at 1\n",
    "    df.to_csv(\"titanicPrediction2.csv\", index_label='Id')"
   ]
  },
  {
   "cell_type": "code",
   "execution_count": 14,
   "id": "d2c2ed64",
   "metadata": {},
   "outputs": [],
   "source": [
    "spam_model_forest = DecisionTree(max_depth = 17)\n",
    "spam_model_forest.fit(spamData[\"training_data\"], spamData[\"training_labels\"])\n",
    "spamPredictions = spam_model_forest.predict(spamData[\"test_data\"])\n",
    "results_to_csv(spamPredictions)"
   ]
  },
  {
   "cell_type": "code",
   "execution_count": 15,
   "id": "bc6c87eb",
   "metadata": {},
   "outputs": [],
   "source": [
    "titanicModel = RandomForest(m_depth = 6, features = titanicFeatures, n=300, m=4)\n",
    "titanicModel.fit(titanicData, titanicLabels)\n",
    "titanicPredictions = titanicModel.predict(titanicTest)\n",
    "results_to_csv(titanicPredictions)"
   ]
  },
  {
   "cell_type": "markdown",
   "id": "f3ef62d1",
   "metadata": {},
   "source": [
    "Kaggle Username: nadaleek\n",
    "\n",
    "SPAM Score: 0.80394\n",
    "\n",
    "Titanic Score: 0.73548"
   ]
  },
  {
   "cell_type": "markdown",
   "id": "2d66cf62",
   "metadata": {},
   "source": [
    "## 4.5 Writeup the Spam Dataset"
   ]
  },
  {
   "cell_type": "markdown",
   "id": "f0c04b3d",
   "metadata": {},
   "source": [
    "drug > 1e-5\n",
    "\n",
    "exclamation > 1e-5\n",
    "\n",
    "semicolon < 1e-5\n",
    "\n",
    "perscription < 1e-5\n",
    "\n",
    "spam > 1e-5\n",
    "\n",
    "money > 1e-5\n",
    "\n",
    "Therefore, the prediction is spam"
   ]
  },
  {
   "cell_type": "markdown",
   "id": "4f68c96d",
   "metadata": {},
   "source": [
    "business > 1e-5\n",
    "\n",
    "message > 1e-5\n",
    "\n",
    "pain < 1e-5\n",
    "\n",
    "ampersand < 1e-5\n",
    "\n",
    "other < 1e-5\n",
    "\n",
    "Therefore, this prediction is ham"
   ]
  },
  {
   "cell_type": "code",
   "execution_count": 17,
   "id": "8bd1fab9",
   "metadata": {},
   "outputs": [
    {
     "name": "stdout",
     "output_type": "stream",
     "text": [
      "Depth 1 done\n",
      "Depth 2 done\n",
      "Depth 3 done\n",
      "Depth 4 done\n",
      "Depth 5 done\n",
      "Depth 6 done\n",
      "Depth 7 done\n",
      "Depth 8 done\n",
      "Depth 9 done\n",
      "Depth 10 done\n",
      "Depth 11 done\n",
      "Depth 12 done\n",
      "Depth 13 done\n",
      "Depth 14 done\n",
      "Depth 15 done\n",
      "Depth 16 done\n",
      "Depth 17 done\n",
      "Depth 18 done\n",
      "Depth 19 done\n",
      "Depth 20 done\n",
      "Depth 21 done\n",
      "Depth 22 done\n",
      "Depth 23 done\n",
      "Depth 24 done\n",
      "Depth 25 done\n",
      "Depth 26 done\n",
      "Depth 27 done\n",
      "Depth 28 done\n",
      "Depth 29 done\n",
      "Depth 30 done\n",
      "Depth 31 done\n",
      "Depth 32 done\n",
      "Depth 33 done\n",
      "Depth 34 done\n",
      "Depth 35 done\n",
      "Depth 36 done\n",
      "Depth 37 done\n",
      "Depth 38 done\n",
      "Depth 39 done\n",
      "Depth 40 done\n"
     ]
    }
   ],
   "source": [
    "spam_training_data, spam_training_labels, spam_val_data, spam_val_labels = shuffle_data(\n",
    "    spam_trainingData, spam_trainingLabels, int(spam_trainingData.shape[0] * 0.2))\n",
    "\n",
    "depths = np.arange(1, 41)\n",
    "val_acc = []\n",
    "for depth in depths:\n",
    "    decisionTree = DecisionTree(max_depth = depth)\n",
    "    decisionTree.fit(spam_training_data, spam_training_labels)\n",
    "    prediction = decisionTree.predict(spam_val_data)\n",
    "    spam_val_acc = np.sum(prediction == spam_val_labels.flatten()) / spam_val_data.shape[0]\n",
    "    val_acc.append(spam_val_acc)\n",
    "    print(f\"Depth {depth} done\")"
   ]
  },
  {
   "cell_type": "code",
   "execution_count": 18,
   "id": "b2a74135",
   "metadata": {},
   "outputs": [
    {
     "data": {
      "image/png": "[encoded data removed]",
      "text/plain": [
       "<Figure size 432x288 with 1 Axes>"
      ]
     },
     "metadata": {
      "needs_background": "light"
     },
     "output_type": "display_data"
    },
    {
     "name": "stdout",
     "output_type": "stream",
     "text": [
      "The optimal depth is 23\n"
     ]
    }
   ],
   "source": [
    "plt.plot(depths, val_acc, label=\"Validation Data\")\n",
    "plt.xlabel(\"Depth\")\n",
    "plt.ylabel(\"Validation Accuracy\")\n",
    "plt.title(\"Validation Accuracy vs Depth\")\n",
    "plt.show()\n",
    "\n",
    "max_val = max(val_acc)\n",
    "max_depth = val_acc.index(max_val)\n",
    "print(f\"The optimal depth is {max_depth}\")"
   ]
  },
  {
   "cell_type": "markdown",
   "id": "5006f866",
   "metadata": {},
   "source": [
    "## 4.6 Writeup for the Titanic Dataset"
   ]
  },
  {
   "cell_type": "code",
   "execution_count": 19,
   "id": "aeaad34f",
   "metadata": {},
   "outputs": [],
   "source": [
    "titanicModel = DecisionTree(max_depth = 3)\n",
    "mod = titanicModel.fit(titanicData, titanicLabels)"
   ]
  },
  {
   "cell_type": "code",
   "execution_count": 20,
   "id": "3c891b58",
   "metadata": {},
   "outputs": [
    {
     "ename": "NotFittedError",
     "evalue": "This DecisionTree instance is not fitted yet. Call 'fit' with appropriate arguments before using this estimator.",
     "output_type": "error",
     "traceback": [
      "\u001b[0;31m---------------------------------------------------------------------------\u001b[0m",
      "\u001b[0;31mNotFittedError\u001b[0m                            Traceback (most recent call last)",
      "Input \u001b[0;32mIn [20]\u001b[0m, in \u001b[0;36m<cell line: 2>\u001b[0;34m()\u001b[0m\n\u001b[1;32m      1\u001b[0m fig \u001b[38;5;241m=\u001b[39m plt\u001b[38;5;241m.\u001b[39mfigure(figsize\u001b[38;5;241m=\u001b[39m(\u001b[38;5;241m25\u001b[39m,\u001b[38;5;241m20\u001b[39m))\n\u001b[0;32m----> 2\u001b[0m _ \u001b[38;5;241m=\u001b[39m \u001b[43msklearn\u001b[49m\u001b[38;5;241;43m.\u001b[39;49m\u001b[43mtree\u001b[49m\u001b[38;5;241;43m.\u001b[39;49m\u001b[43mplot_tree\u001b[49m\u001b[43m(\u001b[49m\u001b[43mtitanicModel\u001b[49m\u001b[43m,\u001b[49m\u001b[43m \u001b[49m\u001b[43mfeature_names\u001b[49m\u001b[43m \u001b[49m\u001b[38;5;241;43m=\u001b[39;49m\u001b[43m \u001b[49m\u001b[43mtitanicFeatures\u001b[49m\u001b[43m)\u001b[49m\n\u001b[1;32m      3\u001b[0m plt\u001b[38;5;241m.\u001b[39mshow()\n",
      "File \u001b[0;32m~/opt/anaconda3/lib/python3.9/site-packages/sklearn/tree/_export.py:180\u001b[0m, in \u001b[0;36mplot_tree\u001b[0;34m(decision_tree, max_depth, feature_names, class_names, label, filled, impurity, node_ids, proportion, rounded, precision, ax, fontsize)\u001b[0m\n\u001b[1;32m     78\u001b[0m \u001b[38;5;28;01mdef\u001b[39;00m \u001b[38;5;21mplot_tree\u001b[39m(\n\u001b[1;32m     79\u001b[0m     decision_tree,\n\u001b[1;32m     80\u001b[0m     \u001b[38;5;241m*\u001b[39m,\n\u001b[0;32m   (...)\u001b[0m\n\u001b[1;32m     92\u001b[0m     fontsize\u001b[38;5;241m=\u001b[39m\u001b[38;5;28;01mNone\u001b[39;00m,\n\u001b[1;32m     93\u001b[0m ):\n\u001b[1;32m     94\u001b[0m     \u001b[38;5;124;03m\"\"\"Plot a decision tree.\u001b[39;00m\n\u001b[1;32m     95\u001b[0m \n\u001b[1;32m     96\u001b[0m \u001b[38;5;124;03m    The sample counts that are shown are weighted with any sample_weights that\u001b[39;00m\n\u001b[0;32m   (...)\u001b[0m\n\u001b[1;32m    177\u001b[0m \n\u001b[1;32m    178\u001b[0m \u001b[38;5;124;03m    \"\"\"\u001b[39;00m\n\u001b[0;32m--> 180\u001b[0m     \u001b[43mcheck_is_fitted\u001b[49m\u001b[43m(\u001b[49m\u001b[43mdecision_tree\u001b[49m\u001b[43m)\u001b[49m\n\u001b[1;32m    182\u001b[0m     exporter \u001b[38;5;241m=\u001b[39m _MPLTreeExporter(\n\u001b[1;32m    183\u001b[0m         max_depth\u001b[38;5;241m=\u001b[39mmax_depth,\n\u001b[1;32m    184\u001b[0m         feature_names\u001b[38;5;241m=\u001b[39mfeature_names,\n\u001b[0;32m   (...)\u001b[0m\n\u001b[1;32m    193\u001b[0m         fontsize\u001b[38;5;241m=\u001b[39mfontsize,\n\u001b[1;32m    194\u001b[0m     )\n\u001b[1;32m    195\u001b[0m     \u001b[38;5;28;01mreturn\u001b[39;00m exporter\u001b[38;5;241m.\u001b[39mexport(decision_tree, ax\u001b[38;5;241m=\u001b[39max)\n",
      "File \u001b[0;32m~/opt/anaconda3/lib/python3.9/site-packages/sklearn/utils/validation.py:1222\u001b[0m, in \u001b[0;36mcheck_is_fitted\u001b[0;34m(estimator, attributes, msg, all_or_any)\u001b[0m\n\u001b[1;32m   1217\u001b[0m     fitted \u001b[38;5;241m=\u001b[39m [\n\u001b[1;32m   1218\u001b[0m         v \u001b[38;5;28;01mfor\u001b[39;00m v \u001b[38;5;129;01min\u001b[39;00m \u001b[38;5;28mvars\u001b[39m(estimator) \u001b[38;5;28;01mif\u001b[39;00m v\u001b[38;5;241m.\u001b[39mendswith(\u001b[38;5;124m\"\u001b[39m\u001b[38;5;124m_\u001b[39m\u001b[38;5;124m\"\u001b[39m) \u001b[38;5;129;01mand\u001b[39;00m \u001b[38;5;129;01mnot\u001b[39;00m v\u001b[38;5;241m.\u001b[39mstartswith(\u001b[38;5;124m\"\u001b[39m\u001b[38;5;124m__\u001b[39m\u001b[38;5;124m\"\u001b[39m)\n\u001b[1;32m   1219\u001b[0m     ]\n\u001b[1;32m   1221\u001b[0m \u001b[38;5;28;01mif\u001b[39;00m \u001b[38;5;129;01mnot\u001b[39;00m fitted:\n\u001b[0;32m-> 1222\u001b[0m     \u001b[38;5;28;01mraise\u001b[39;00m NotFittedError(msg \u001b[38;5;241m%\u001b[39m {\u001b[38;5;124m\"\u001b[39m\u001b[38;5;124mname\u001b[39m\u001b[38;5;124m\"\u001b[39m: \u001b[38;5;28mtype\u001b[39m(estimator)\u001b[38;5;241m.\u001b[39m\u001b[38;5;18m__name__\u001b[39m})\n",
      "\u001b[0;31mNotFittedError\u001b[0m: This DecisionTree instance is not fitted yet. Call 'fit' with appropriate arguments before using this estimator."
     ]
    },
    {
     "data": {
      "text/plain": [
       "<Figure size 1800x1440 with 0 Axes>"
      ]
     },
     "metadata": {},
     "output_type": "display_data"
    }
   ],
   "source": [
    "fig = plt.figure(figsize=(25,20))\n",
    "_ = sklearn.tree.plot_tree(titanicModel, feature_names = titanicFeatures)\n",
    "plt.show()"
   ]
  },
  {
   "cell_type": "code",
   "execution_count": null,
   "id": "b5b356bd",
   "metadata": {},
   "outputs": [],
   "source": []
  }
 ],
 "metadata": {
  "kernelspec": {
   "display_name": "Python 3 (ipykernel)",
   "language": "python",
   "name": "python3"
  },
  "language_info": {
   "codemirror_mode": {
    "name": "ipython",
    "version": 3
   },
   "file_extension": ".py",
   "mimetype": "text/x-python",
   "name": "python",
   "nbconvert_exporter": "python",
   "pygments_lexer": "ipython3",
   "version": "3.9.12"
  }
 },
 "nbformat": 4,
 "nbformat_minor": 5
}
