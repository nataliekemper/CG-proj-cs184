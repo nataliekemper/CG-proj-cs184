{
 "cells": [
  {
   "cell_type": "code",
   "execution_count": 1,
   "id": "8090bf22",
   "metadata": {},
   "outputs": [],
   "source": [
    "import sys\n",
    "if sys.version_info[0] < 3:\n",
    "    raise Exception(\"Python 3 not detected.\")\n",
    "import numpy as np\n",
    "import pandas as pd\n",
    "import scipy\n",
    "from scipy import stats\n",
    "from scipy import linalg\n",
    "import matplotlib.pyplot as plt\n",
    "from sklearn import svm\n",
    "from sklearn.metrics import accuracy_score\n",
    "from scipy import io\n",
    "import random\n",
    "import statistics\n",
    "import matplotlib.pyplot as plt"
   ]
  },
  {
   "cell_type": "code",
   "execution_count": 2,
   "id": "fd977148",
   "metadata": {},
   "outputs": [],
   "source": [
    "x1 = [0.2, 3.1, 1]\n",
    "x2 = [1.0, 3.0, 1]\n",
    "x3 = [-0.2, 1.2, 1]\n",
    "x4 = [1.0, 1.1, 1]\n",
    "w0 = [-1, 1, 0]\n",
    "y = [1, 1, 0, 0]\n",
    "y = np.asarray(y)\n",
    "\n",
    "X = [x1, x2, x3, x4]\n",
    "X = np.asarray(X)"
   ]
  },
  {
   "cell_type": "code",
   "execution_count": 3,
   "id": "50a3c64e",
   "metadata": {},
   "outputs": [],
   "source": [
    "def s(z):\n",
    "    return 1 / (1 + np.exp(-z))"
   ]
  },
  {
   "cell_type": "code",
   "execution_count": 4,
   "id": "aa3138be",
   "metadata": {},
   "outputs": [],
   "source": [
    "def next_s(X, w):\n",
    "    res = np.matmul(X, w)\n",
    "    s_next = s(res)\n",
    "    return s_next"
   ]
  },
  {
   "cell_type": "code",
   "execution_count": 5,
   "id": "fe559a9b",
   "metadata": {},
   "outputs": [],
   "source": [
    "def next_w(X, y, w, s_i):\n",
    "    omega = np.diag(s0 * (1-s0))\n",
    "    h = X.T @ omega @ X\n",
    "    inv_h = np.linalg.inv(h)\n",
    "    mat = inv_h @ X.T @ (y - s_i)\n",
    "    return w + mat"
   ]
  },
  {
   "cell_type": "markdown",
   "id": "34d37948",
   "metadata": {},
   "source": [
    "### Part a"
   ]
  },
  {
   "cell_type": "code",
   "execution_count": 6,
   "id": "ec4af529",
   "metadata": {},
   "outputs": [
    {
     "data": {
      "text/plain": [
       "array([0.94784644, 0.88079708, 0.80218389, 0.52497919])"
      ]
     },
     "execution_count": 6,
     "metadata": {},
     "output_type": "execute_result"
    }
   ],
   "source": [
    "s0 = next_s(X, w0)\n",
    "s0"
   ]
  },
  {
   "cell_type": "markdown",
   "id": "8a13f5fd",
   "metadata": {},
   "source": [
    "### Part b"
   ]
  },
  {
   "cell_type": "code",
   "execution_count": 7,
   "id": "a6bbf233",
   "metadata": {},
   "outputs": [
    {
     "data": {
      "text/plain": [
       "array([ 1.32465198,  3.04991697, -6.82910388])"
      ]
     },
     "execution_count": 7,
     "metadata": {},
     "output_type": "execute_result"
    }
   ],
   "source": [
    "w1 = next_w(X, y, w0, s0)\n",
    "w1"
   ]
  },
  {
   "cell_type": "markdown",
   "id": "1b102d2d",
   "metadata": {},
   "source": [
    "### Part c"
   ]
  },
  {
   "cell_type": "code",
   "execution_count": 8,
   "id": "2ef8b3fe",
   "metadata": {},
   "outputs": [
    {
     "data": {
      "text/plain": [
       "array([0.94737826, 0.97455097, 0.03124556, 0.10437391])"
      ]
     },
     "execution_count": 8,
     "metadata": {},
     "output_type": "execute_result"
    }
   ],
   "source": [
    "s1 = next_s(X, w1)\n",
    "s1"
   ]
  },
  {
   "cell_type": "markdown",
   "id": "d58c6ad6",
   "metadata": {},
   "source": [
    "### Part d"
   ]
  },
  {
   "cell_type": "code",
   "execution_count": 9,
   "id": "264f5f57",
   "metadata": {},
   "outputs": [
    {
     "data": {
      "text/plain": [
       "array([ 1.06902047,  3.52252931, -7.56418584])"
      ]
     },
     "execution_count": 9,
     "metadata": {},
     "output_type": "execute_result"
    }
   ],
   "source": [
    "w2 = next_w(X, y, w1, s1)\n",
    "w2"
   ]
  },
  {
   "cell_type": "markdown",
   "id": "7154a3ad",
   "metadata": {},
   "source": [
    "# Question 3: Wine Classification with Logistic Regression"
   ]
  },
  {
   "cell_type": "code",
   "execution_count": 10,
   "id": "a0b383b5",
   "metadata": {},
   "outputs": [],
   "source": [
    "wineData = scipy.io.loadmat('data.mat')"
   ]
  },
  {
   "cell_type": "code",
   "execution_count": 11,
   "id": "a5d44371",
   "metadata": {},
   "outputs": [],
   "source": [
    "wine_X = wineData['X']\n",
    "labels = wineData['y']\n",
    "test = wineData['X_test']"
   ]
  },
  {
   "cell_type": "code",
   "execution_count": 12,
   "id": "416fbb80",
   "metadata": {},
   "outputs": [],
   "source": [
    "# Normalizing the data\n",
    "train_mean = np.mean(wine_X, axis=0)\n",
    "train_std = np.std(wine_X, axis=0)\n",
    "wine_training = (wine_X - train_mean) / train_std\n",
    "\n",
    "test_mean = np.mean(test, axis=0)\n",
    "test_std = np.std(test, axis=0)\n",
    "wine_test = (test - test_mean) / test_std\n",
    "\n",
    "wine_training = np.c_[wine_training, np.ones(len(wine_training))]\n",
    "wine_test = np.c_[wine_test, np.ones(len(wine_test))]"
   ]
  },
  {
   "cell_type": "markdown",
   "id": "063ef255",
   "metadata": {},
   "source": [
    "## Part 2: Batch Gradient Descent"
   ]
  },
  {
   "cell_type": "code",
   "execution_count": 13,
   "id": "614e6971",
   "metadata": {},
   "outputs": [],
   "source": [
    "random.seed(10)"
   ]
  },
  {
   "cell_type": "code",
   "execution_count": 14,
   "id": "e1c1b5ae",
   "metadata": {},
   "outputs": [],
   "source": [
    "def shuffle_data(array1, array2, num):\n",
    "    merged_list = list(zip(array1, array2))\n",
    "    \n",
    "    shuffled = random.sample(merged_list, len(merged_list))\n",
    "    \n",
    "    unfiltered_training, unfiltered_val = shuffled[num:], shuffled[:num]\n",
    "    \n",
    "    X_training_data, y_training_labels = zip(*unfiltered_training)\n",
    "    X_validation_data, y_validation_labels = zip(*unfiltered_val)\n",
    "    \n",
    "    return np.asarray(X_training_data), np.asarray(y_training_labels), np.asarray(X_validation_data), np.asarray(y_validation_labels)"
   ]
  },
  {
   "cell_type": "code",
   "execution_count": 15,
   "id": "e2db1768",
   "metadata": {},
   "outputs": [],
   "source": [
    "training, training_labels, validation, validation_labels = shuffle_data(wine_training, labels, 1000)"
   ]
  },
  {
   "cell_type": "code",
   "execution_count": 16,
   "id": "2337ce11",
   "metadata": {},
   "outputs": [],
   "source": [
    "def sigmoid_one(z):\n",
    "    return 1 / (1 + np.exp(-z))"
   ]
  },
  {
   "cell_type": "code",
   "execution_count": 17,
   "id": "c4637c84",
   "metadata": {},
   "outputs": [],
   "source": [
    "def sigmoid(z):\n",
    "    return scipy.special.expit(z)"
   ]
  },
  {
   "cell_type": "code",
   "execution_count": 18,
   "id": "7535980d",
   "metadata": {},
   "outputs": [],
   "source": [
    "def cost_fun(X, y, lam, w):\n",
    "    J = (- y.T @ np.log(sigmoid(X @ w))) - ((1 - y).T @ np.log(1 - sigmoid(X @ w))) + (lam * linalg.norm(w, 2)**2)\n",
    "    return J "
   ]
  },
  {
   "cell_type": "code",
   "execution_count": 19,
   "id": "df0c3f0b",
   "metadata": {},
   "outputs": [],
   "source": [
    "def gradient_descent(alpha, lam, X, y, iterations):\n",
    "    w = np.ones((X.shape[1], 1))\n",
    "    cost = []\n",
    "    for i in np.arange(iterations):\n",
    "        J = cost_fun(X, y, lam, w)\n",
    "        #J = (- y.T @ np.log(sigmoid(X @ w))) - ((1 - y).T @ np.log(1 - sigmoid(X @ w))) + (lam * linalg.norm(w, 2)**2)\n",
    "        gradient = (-X.T @ (y - sigmoid(X @ w))) + (lam*w)\n",
    "        w = w - (alpha * gradient) # update rule\n",
    "        cost.append(J)\n",
    "    \n",
    "    c1 = [num for sublist in cost for num in sublist]\n",
    "    c2 = [num for sublist in c1 for num in sublist]\n",
    "        \n",
    "    return w.reshape(-1,) , c2"
   ]
  },
  {
   "cell_type": "code",
   "execution_count": 20,
   "id": "8aafd256",
   "metadata": {},
   "outputs": [
    {
     "name": "stderr",
     "output_type": "stream",
     "text": [
      "/var/folders/83/28lw4ls96vgf72zr4g5ld9d80000gn/T/ipykernel_36112/3303445312.py:2: RuntimeWarning: divide by zero encountered in log\n",
      "  J = (- y.T @ np.log(sigmoid(X @ w))) - ((1 - y).T @ np.log(1 - sigmoid(X @ w))) + (lam * linalg.norm(w, 2)**2)\n"
     ]
    }
   ],
   "source": [
    "lam = .1\n",
    "alpha = 0.0001\n",
    "X = training\n",
    "y = training_labels\n",
    "iterations = 10000\n",
    "\n",
    "w_final, cost = gradient_descent(alpha, lam, X, y, iterations)\n",
    "w_final = w_final.reshape(-1,)"
   ]
  },
  {
   "cell_type": "code",
   "execution_count": 21,
   "id": "40384c1d",
   "metadata": {},
   "outputs": [
    {
     "data": {
      "text/plain": [
       "0.9938"
      ]
     },
     "execution_count": 21,
     "metadata": {},
     "output_type": "execute_result"
    }
   ],
   "source": [
    "predicted_label = (sigmoid((X @ w_final)) >= 0.5).astype(int).reshape(-1,)\n",
    "training_labels = training_labels.reshape(-1,).astype(int)\n",
    "(training_labels == predicted_label).astype(int).mean()"
   ]
  },
  {
   "cell_type": "code",
   "execution_count": 22,
   "id": "1d9067e6",
   "metadata": {},
   "outputs": [
    {
     "data": {
      "text/plain": [
       "0.994"
      ]
     },
     "execution_count": 22,
     "metadata": {},
     "output_type": "execute_result"
    }
   ],
   "source": [
    "predicted_label = (sigmoid(validation @ w_final) >= 0.5).astype(int).reshape(-1,)\n",
    "validation_labels = validation_labels.reshape(-1,).astype(int)\n",
    "(validation_labels == predicted_label).astype(int).mean()"
   ]
  },
  {
   "cell_type": "code",
   "execution_count": 23,
   "id": "d5fcc147",
   "metadata": {},
   "outputs": [
    {
     "data": {
      "image/png": "[encoded data removed]",
      "text/plain": [
       "<Figure size 432x288 with 1 Axes>"
      ]
     },
     "metadata": {
      "needs_background": "light"
     },
     "output_type": "display_data"
    }
   ],
   "source": [
    "x_axis = np.arange(10000)\n",
    "\n",
    "plt.plot(x_axis, cost)\n",
    "plt.title('Cost Function Over 10000 Iterations')\n",
    "plt.xlabel('Iteration')\n",
    "plt.ylabel('Cost')\n",
    "plt.show()"
   ]
  },
  {
   "cell_type": "markdown",
   "id": "d29cb9b9",
   "metadata": {},
   "source": [
    "## Part 4: Stochastic Gradient Descent"
   ]
  },
  {
   "cell_type": "code",
   "execution_count": 24,
   "id": "f7cc492c",
   "metadata": {},
   "outputs": [],
   "source": [
    "def s(z):\n",
    "    return 1 / (1 + np.exp(-z))"
   ]
  },
  {
   "cell_type": "code",
   "execution_count": 25,
   "id": "4f074f2e",
   "metadata": {},
   "outputs": [],
   "source": [
    "w = np.ones((X[0].shape[0], 1))"
   ]
  },
  {
   "cell_type": "code",
   "execution_count": 26,
   "id": "1eb664fc",
   "metadata": {},
   "outputs": [],
   "source": [
    "def stochastic_gd(alpha, lam, X, y, iterations):\n",
    "    w = np.ones((13, 1))\n",
    "    cost = []\n",
    "\n",
    "    for i in np.arange(iterations):\n",
    "        idx = random.randint(0, 2999)\n",
    "        X_i = X[idx]\n",
    "        y_i = y[idx]\n",
    "        x_resized = np.reshape(X_i, (1, 13))\n",
    "        sf = np.reshape(s(x_resized @ w), (1, 1))\n",
    "        y_i = np.reshape(y_i, (1, 1))\n",
    "\n",
    "        J = (- y.T @ np.log(sigmoid(X @ w))) - ((1 - y).T @ np.log(1 - sigmoid(X @ w))) + (lam * linalg.norm(w, 2)**2)\n",
    "        gradient = (-x_resized.T @ (y_i - sf)) + (2*lam*w)\n",
    "        w = w - (alpha * gradient) # update rule\n",
    "        cost.append(J)\n",
    "    \n",
    "    c1 = [num for sublist in cost for num in sublist]\n",
    "    \n",
    "    return w, c1"
   ]
  },
  {
   "cell_type": "code",
   "execution_count": 27,
   "id": "40f5ce71",
   "metadata": {},
   "outputs": [
    {
     "name": "stderr",
     "output_type": "stream",
     "text": [
      "/var/folders/83/28lw4ls96vgf72zr4g5ld9d80000gn/T/ipykernel_36112/2800110948.py:13: RuntimeWarning: divide by zero encountered in log\n",
      "  J = (- y.T @ np.log(sigmoid(X @ w))) - ((1 - y).T @ np.log(1 - sigmoid(X @ w))) + (lam * linalg.norm(w, 2)**2)\n"
     ]
    }
   ],
   "source": [
    "alpha = 0.0001\n",
    "lam = 10\n",
    "iterations = 10000\n",
    "X = training\n",
    "y = training_labels\n",
    "cost = []\n",
    "\n",
    "w_final, cost = stochastic_gd(alpha, lam, X, y, iterations)"
   ]
  },
  {
   "cell_type": "code",
   "execution_count": 28,
   "id": "f66566f6",
   "metadata": {},
   "outputs": [
    {
     "data": {
      "image/png": "[encoded data removed]",
      "text/plain": [
       "<Figure size 432x288 with 1 Axes>"
      ]
     },
     "metadata": {
      "needs_background": "light"
     },
     "output_type": "display_data"
    }
   ],
   "source": [
    "plt.plot(np.arange(iterations), cost)\n",
    "plt.title('Cost Function Over 10000 Iterations')\n",
    "plt.xlabel('Iteration')\n",
    "plt.ylabel('Cost')\n",
    "plt.show()"
   ]
  },
  {
   "cell_type": "code",
   "execution_count": 29,
   "id": "a8bf8b03",
   "metadata": {},
   "outputs": [
    {
     "data": {
      "text/plain": [
       "0.9562"
      ]
     },
     "execution_count": 29,
     "metadata": {},
     "output_type": "execute_result"
    }
   ],
   "source": [
    "pred_y = (sigmoid((X @ w_final)) >= 0.5).astype(int)\n",
    "pred_y = pred_y.reshape(-1,)\n",
    "training_labels = training_labels.reshape(-1,).astype(int)\n",
    "(training_labels == pred_y).astype(int).mean()"
   ]
  },
  {
   "cell_type": "code",
   "execution_count": 30,
   "id": "e1a224d2",
   "metadata": {},
   "outputs": [
    {
     "data": {
      "text/plain": [
       "0.961"
      ]
     },
     "execution_count": 30,
     "metadata": {},
     "output_type": "execute_result"
    }
   ],
   "source": [
    "pred_y = (sigmoid(validation @ w_final) >= 0.5).astype(int)\n",
    "pred_y = pred_y.reshape(-1,)\n",
    "validation_labels = validation_labels.reshape(-1,).astype(int)\n",
    "(validation_labels == pred_y).astype(int).mean()"
   ]
  },
  {
   "cell_type": "markdown",
   "id": "10e8c2cb",
   "metadata": {},
   "source": [
    "## Part 5: Shrinking Step Size"
   ]
  },
  {
   "cell_type": "code",
   "execution_count": 31,
   "id": "f85f72ad",
   "metadata": {},
   "outputs": [],
   "source": [
    "def stochastic_gd_shrink(alpha, lam, X, y, iterations):\n",
    "    w = np.ones((13, 1))\n",
    "    cost = []\n",
    "\n",
    "    for i in np.arange(iterations):\n",
    "        lam = lam / (i + 1)\n",
    "        idx = random.randint(0, 2999)\n",
    "        X_i = X[idx]\n",
    "        y_i = y[idx]\n",
    "        x_resized = np.reshape(X_i, (1, 13))\n",
    "        sf = np.reshape(s(x_resized @ w), (1, 1))\n",
    "        y_i = np.reshape(y_i, (1, 1))\n",
    "\n",
    "        J = (- y.T @ np.log(sigmoid(X @ w))) - ((1 - y).T @ np.log(1 - sigmoid(X @ w))) + (lam * linalg.norm(w, 2)**2)\n",
    "        gradient = (-x_resized.T @ (y_i - sf)) + (2*lam*w)\n",
    "        w = w - (alpha * gradient) # update rule\n",
    "        cost.append(J)\n",
    "    \n",
    "    c1 = [num for sublist in cost for num in sublist]\n",
    "    \n",
    "    return c1"
   ]
  },
  {
   "cell_type": "code",
   "execution_count": 51,
   "id": "28e88dbd",
   "metadata": {},
   "outputs": [
    {
     "name": "stderr",
     "output_type": "stream",
     "text": [
      "/var/folders/83/28lw4ls96vgf72zr4g5ld9d80000gn/T/ipykernel_36112/2401646103.py:14: RuntimeWarning: divide by zero encountered in log\n",
      "  J = (- y.T @ np.log(sigmoid(X @ w))) - ((1 - y).T @ np.log(1 - sigmoid(X @ w))) + (lam * linalg.norm(w, 2)**2)\n"
     ]
    }
   ],
   "source": [
    "alpha = 0.001\n",
    "lam = .1\n",
    "iterations = 10000\n",
    "X = training\n",
    "y = training_labels\n",
    "cost = []\n",
    "\n",
    "cost = stochastic_gd_shrink(alpha, lam, X, y, iterations)"
   ]
  },
  {
   "cell_type": "code",
   "execution_count": 52,
   "id": "f5ee3861",
   "metadata": {},
   "outputs": [
    {
     "data": {
      "image/png": "[encoded data removed]",
      "text/plain": [
       "<Figure size 432x288 with 1 Axes>"
      ]
     },
     "metadata": {
      "needs_background": "light"
     },
     "output_type": "display_data"
    }
   ],
   "source": [
    "plt.plot(np.arange(iterations), cost)\n",
    "plt.title('Cost Function Over 10000 Iterations')\n",
    "plt.xlabel('Iteration')\n",
    "plt.ylabel('Cost')\n",
    "plt.show()"
   ]
  },
  {
   "cell_type": "markdown",
   "id": "144d33c9",
   "metadata": {},
   "source": [
    "## Part 6: Kaggle"
   ]
  },
  {
   "cell_type": "code",
   "execution_count": 40,
   "id": "c3b9774f",
   "metadata": {},
   "outputs": [
    {
     "name": "stderr",
     "output_type": "stream",
     "text": [
      "/var/folders/83/28lw4ls96vgf72zr4g5ld9d80000gn/T/ipykernel_36112/3303445312.py:2: RuntimeWarning: divide by zero encountered in log\n",
      "  J = (- y.T @ np.log(sigmoid(X @ w))) - ((1 - y).T @ np.log(1 - sigmoid(X @ w))) + (lam * linalg.norm(w, 2)**2)\n",
      "/var/folders/83/28lw4ls96vgf72zr4g5ld9d80000gn/T/ipykernel_36112/3303445312.py:2: RuntimeWarning: invalid value encountered in matmul\n",
      "  J = (- y.T @ np.log(sigmoid(X @ w))) - ((1 - y).T @ np.log(1 - sigmoid(X @ w))) + (lam * linalg.norm(w, 2)**2)\n"
     ]
    },
    {
     "data": {
      "text/plain": [
       "array([0, 1, 1, 0, 1, 1, 1, 0, 0, 0, 1, 0, 0, 0, 0, 0, 0, 1, 0, 0, 0, 0,\n",
       "       0, 0, 1, 1, 0, 0, 0, 0, 0, 0, 0, 0, 0, 1, 1, 0, 1, 0, 0, 0, 0, 0,\n",
       "       0, 0, 0, 1, 0, 0, 1, 0, 0, 1, 0, 0, 0, 0, 0, 0, 0, 0, 1, 0, 1, 0,\n",
       "       0, 1, 0, 0, 0, 0, 0, 0, 0, 0, 0, 0, 0, 0, 0, 0, 0, 1, 0, 0, 1, 0,\n",
       "       1, 0, 1, 0, 0, 0, 0, 0, 1, 0, 0, 0, 0, 0, 0, 0, 0, 0, 0, 0, 0, 0,\n",
       "       0, 0, 0, 1, 0, 0, 0, 0, 0, 0, 0, 0, 0, 0, 0, 0, 0, 1, 0, 0, 1, 1,\n",
       "       0, 1, 0, 0, 0, 1, 1, 0, 0, 0, 0, 0, 0, 0, 0, 1, 0, 1, 0, 1, 0, 0,\n",
       "       0, 0, 0, 0, 0, 0, 1, 0, 0, 0, 0, 1, 0, 1, 1, 0, 0, 0, 0, 1, 0, 0,\n",
       "       1, 0, 1, 0, 1, 1, 0, 1, 1, 0, 0, 0, 0, 0, 0, 0, 1, 0, 1, 0, 0, 1,\n",
       "       0, 1, 0, 0, 0, 0, 1, 1, 1, 0, 1, 0, 0, 0, 1, 0, 0, 0, 0, 0, 0, 0,\n",
       "       0, 0, 0, 0, 1, 0, 0, 1, 1, 1, 0, 0, 0, 0, 1, 0, 1, 1, 1, 1, 1, 0,\n",
       "       0, 0, 1, 0, 0, 0, 1, 0, 0, 0, 0, 0, 0, 1, 0, 0, 1, 0, 0, 0, 1, 0,\n",
       "       1, 0, 0, 0, 0, 0, 0, 0, 0, 0, 0, 0, 0, 0, 0, 0, 1, 0, 1, 0, 1, 0,\n",
       "       0, 0, 0, 1, 0, 0, 0, 0, 0, 0, 0, 1, 0, 0, 0, 0, 0, 0, 0, 0, 0, 0,\n",
       "       0, 0, 0, 0, 0, 0, 0, 0, 0, 0, 1, 0, 1, 0, 1, 0, 1, 1, 0, 0, 1, 0,\n",
       "       0, 1, 0, 0, 0, 0, 1, 0, 0, 0, 0, 1, 0, 0, 0, 0, 0, 0, 0, 1, 0, 0,\n",
       "       0, 0, 0, 0, 0, 0, 0, 0, 1, 0, 1, 0, 1, 0, 0, 0, 0, 0, 0, 1, 1, 0,\n",
       "       1, 0, 0, 0, 1, 0, 1, 0, 0, 0, 0, 1, 0, 1, 0, 0, 0, 0, 1, 0, 1, 0,\n",
       "       1, 0, 0, 1, 0, 1, 1, 0, 0, 0, 1, 0, 0, 0, 0, 0, 0, 0, 0, 0, 0, 0,\n",
       "       0, 0, 0, 0, 0, 1, 1, 1, 1, 1, 0, 0, 0, 1, 1, 0, 0, 0, 1, 0, 0, 1,\n",
       "       1, 0, 1, 0, 0, 0, 0, 0, 0, 0, 0, 0, 0, 0, 0, 0, 0, 0, 0, 1, 0, 0,\n",
       "       0, 1, 0, 0, 0, 0, 1, 0, 0, 0, 0, 0, 1, 0, 1, 0, 0, 0, 0, 0, 0, 0,\n",
       "       0, 0, 0, 0, 0, 1, 0, 1, 0, 0, 0, 1, 0])"
      ]
     },
     "execution_count": 40,
     "metadata": {},
     "output_type": "execute_result"
    }
   ],
   "source": [
    "test = wineData[\"X_test\"]\n",
    "lam = 0.1\n",
    "alpha = .0001\n",
    "w = np.ones((test.shape[1], 1))\n",
    "iterations = 50000\n",
    "\n",
    "X = wineData[\"X\"]\n",
    "y = wineData[\"y\"]\n",
    "\n",
    "w_final, cost = gradient_descent(alpha, lam, X, y, iterations)\n",
    "    \n",
    "prediction = (sigmoid(test @ w_final) >= 0.5).astype(int)\n",
    "prediction = prediction.reshape(-1,)\n",
    "prediction"
   ]
  },
  {
   "cell_type": "code",
   "execution_count": 41,
   "id": "1b943df0",
   "metadata": {},
   "outputs": [],
   "source": [
    "def results_to_csv(y_test):\n",
    "    y_test = y_test.astype(int)\n",
    "    df = pd.DataFrame({'Category': y_test})\n",
    "    df.index += 1 # Ensures that the index starts at 1\n",
    "    df.to_csv('sub4.csv', index_label='Id')"
   ]
  },
  {
   "cell_type": "code",
   "execution_count": 42,
   "id": "332cc67e",
   "metadata": {},
   "outputs": [],
   "source": [
    "results_to_csv(prediction)"
   ]
  },
  {
   "cell_type": "markdown",
   "id": "c390c7c0",
   "metadata": {},
   "source": [
    "Kaggle username: nadaleek\n",
    "\n",
    "Wine Score: 0.95564\n",
    "\n",
    "lambda: 0.1\n",
    "\n",
    "alpha: 0.0001\n",
    "\n",
    "random.seed(10)\n",
    "\n",
    "I used batch gradient descent for my classifier. It produces the most accuract results compared to stochastic gradient descent. I calculated the cost function and iterated though 50000 times to train the data."
   ]
  },
  {
   "cell_type": "markdown",
   "id": "6a3c1163",
   "metadata": {},
   "source": [
    "# Question 5: l1, l2 Regularization and Sparsity"
   ]
  },
  {
   "cell_type": "markdown",
   "id": "51e57585",
   "metadata": {},
   "source": [
    "## Part 1"
   ]
  },
  {
   "cell_type": "markdown",
   "id": "66db9773",
   "metadata": {},
   "source": [
    "### a.)"
   ]
  },
  {
   "cell_type": "code",
   "execution_count": 37,
   "id": "8cafa30b",
   "metadata": {},
   "outputs": [
    {
     "data": {
      "text/plain": [
       "Text(0.5, 1.0, 'l 0.5')"
      ]
     },
     "execution_count": 37,
     "metadata": {},
     "output_type": "execute_result"
    },
    {
     "data": {
      "image/png": "[encoded data removed]",
      "text/plain": [
       "<Figure size 432x288 with 2 Axes>"
      ]
     },
     "metadata": {
      "needs_background": "light"
     },
     "output_type": "display_data"
    }
   ],
   "source": [
    "w1 = np.linspace(-5, 5, 600)\n",
    "w2 = np.linspace(-5, 5, 600)\n",
    "X, Y = np.meshgrid(w1, w2)\n",
    "p = 0.5\n",
    "\n",
    "Z = (np.abs(X)**(p) + np.abs(Y)**(p))**(1/p)\n",
    "plt.contourf(X, Y, Z)\n",
    "plt.colorbar()\n",
    "plt.title('l 0.5')"
   ]
  },
  {
   "cell_type": "markdown",
   "id": "b7c4a1ef",
   "metadata": {},
   "source": [
    "### b.)"
   ]
  },
  {
   "cell_type": "code",
   "execution_count": 38,
   "id": "c209dfff",
   "metadata": {},
   "outputs": [
    {
     "data": {
      "text/plain": [
       "Text(0.5, 1.0, 'l1')"
      ]
     },
     "execution_count": 38,
     "metadata": {},
     "output_type": "execute_result"
    },
    {
     "data": {
      "image/png": "[encoded data removed]",
      "text/plain": [
       "<Figure size 432x288 with 2 Axes>"
      ]
     },
     "metadata": {
      "needs_background": "light"
     },
     "output_type": "display_data"
    }
   ],
   "source": [
    "w1 = np.linspace(-5, 5, 600)\n",
    "w2 = np.linspace(-5, 5, 600)\n",
    "X, Y = np.meshgrid(w1, w2)\n",
    "p = 1\n",
    "\n",
    "Z = (np.abs(X)**(p) + np.abs(Y)**(p))**(1/p)\n",
    "plt.contourf(X, Y, Z)\n",
    "plt.colorbar()\n",
    "plt.title('l1')"
   ]
  },
  {
   "cell_type": "markdown",
   "id": "b4fe9480",
   "metadata": {},
   "source": [
    "### c.)"
   ]
  },
  {
   "cell_type": "code",
   "execution_count": 39,
   "id": "b67b9e3d",
   "metadata": {},
   "outputs": [
    {
     "data": {
      "text/plain": [
       "Text(0.5, 1.0, 'l2')"
      ]
     },
     "execution_count": 39,
     "metadata": {},
     "output_type": "execute_result"
    },
    {
     "data": {
      "image/png": "[encoded data removed]",
      "text/plain": [
       "<Figure size 432x288 with 2 Axes>"
      ]
     },
     "metadata": {
      "needs_background": "light"
     },
     "output_type": "display_data"
    }
   ],
   "source": [
    "w1 = np.linspace(-5, 5, 600)\n",
    "w2 = np.linspace(-5, 5, 600)\n",
    "X, Y = np.meshgrid(w1, w2)\n",
    "p = 2\n",
    "\n",
    "Z = (np.abs(X)**(p) + np.abs(Y)**(p))**(1/p)\n",
    "plt.contourf(X, Y, Z)\n",
    "plt.colorbar()\n",
    "plt.title('l2')"
   ]
  },
  {
   "cell_type": "code",
   "execution_count": null,
   "id": "d0d10dfc",
   "metadata": {},
   "outputs": [],
   "source": []
  },
  {
   "cell_type": "code",
   "execution_count": null,
   "id": "995c90b9",
   "metadata": {},
   "outputs": [],
   "source": []
  }
 ],
 "metadata": {
  "kernelspec": {
   "display_name": "Python 3 (ipykernel)",
   "language": "python",
   "name": "python3"
  },
  "language_info": {
   "codemirror_mode": {
    "name": "ipython",
    "version": 3
   },
   "file_extension": ".py",
   "mimetype": "text/x-python",
   "name": "python",
   "nbconvert_exporter": "python",
   "pygments_lexer": "ipython3",
   "version": "3.9.12"
  }
 },
 "nbformat": 4,
 "nbformat_minor": 5
}
